{
 "cells": [
  {
   "cell_type": "code",
   "execution_count": 1,
   "metadata": {},
   "outputs": [],
   "source": [
    "import pandas as pd\n",
    "import numpy as np\n",
    "import matplotlib.pyplot as plt\n",
    "import seaborn as sns\n",
    "%matplotlib inline"
   ]
  },
  {
   "cell_type": "code",
   "execution_count": 42,
   "metadata": {},
   "outputs": [],
   "source": [
    "df = pd.read_csv(\"C:\\\\ML\\\\Analytics\\\\data_science_proj/df_out.csv\")"
   ]
  },
  {
   "cell_type": "code",
   "execution_count": 61,
   "metadata": {},
   "outputs": [
    {
     "data": {
      "text/html": [
       "<div>\n",
       "<style scoped>\n",
       "    .dataframe tbody tr th:only-of-type {\n",
       "        vertical-align: middle;\n",
       "    }\n",
       "\n",
       "    .dataframe tbody tr th {\n",
       "        vertical-align: top;\n",
       "    }\n",
       "\n",
       "    .dataframe thead th {\n",
       "        text-align: right;\n",
       "    }\n",
       "</style>\n",
       "<table border=\"1\" class=\"dataframe\">\n",
       "  <thead>\n",
       "    <tr style=\"text-align: right;\">\n",
       "      <th></th>\n",
       "      <th>Job Title</th>\n",
       "      <th>Salary Estimate</th>\n",
       "      <th>Job Description</th>\n",
       "      <th>Rating</th>\n",
       "      <th>Company Name</th>\n",
       "      <th>Location</th>\n",
       "      <th>Headquarters</th>\n",
       "      <th>Size</th>\n",
       "      <th>Founded</th>\n",
       "      <th>Type of ownership</th>\n",
       "      <th>...</th>\n",
       "      <th>avg_salary</th>\n",
       "      <th>comp</th>\n",
       "      <th>job_state</th>\n",
       "      <th>loc_hq_same</th>\n",
       "      <th>age</th>\n",
       "      <th>size_crct</th>\n",
       "      <th>job_simple</th>\n",
       "      <th>seniority</th>\n",
       "      <th>description_len</th>\n",
       "      <th>Competitors_num</th>\n",
       "    </tr>\n",
       "  </thead>\n",
       "  <tbody>\n",
       "    <tr>\n",
       "      <th>0</th>\n",
       "      <td>Data Scientist</td>\n",
       "      <td>$53K-$91K (Glassdoor est.)</td>\n",
       "      <td>Data Scientist\\nLocation: Albuquerque, NM\\nEdu...</td>\n",
       "      <td>3.8</td>\n",
       "      <td>Tecolote Research\\n3.8</td>\n",
       "      <td>Albuquerque, NM</td>\n",
       "      <td>Goleta, CA</td>\n",
       "      <td>501 to 1000 employees</td>\n",
       "      <td>1973</td>\n",
       "      <td>Company - Private</td>\n",
       "      <td>...</td>\n",
       "      <td>72.0</td>\n",
       "      <td>Tecolote Research</td>\n",
       "      <td>NM</td>\n",
       "      <td>0</td>\n",
       "      <td>47</td>\n",
       "      <td>501 - 1000</td>\n",
       "      <td>data scientist</td>\n",
       "      <td>na</td>\n",
       "      <td>2536</td>\n",
       "      <td>0</td>\n",
       "    </tr>\n",
       "    <tr>\n",
       "      <th>1</th>\n",
       "      <td>Healthcare Data Scientist</td>\n",
       "      <td>$63K-$112K (Glassdoor est.)</td>\n",
       "      <td>What You Will Do:\\n\\nI. General Summary\\n\\nThe...</td>\n",
       "      <td>3.4</td>\n",
       "      <td>University of Maryland Medical System\\n3.4</td>\n",
       "      <td>Linthicum, MD</td>\n",
       "      <td>Baltimore, MD</td>\n",
       "      <td>10000+ employees</td>\n",
       "      <td>1984</td>\n",
       "      <td>Other Organization</td>\n",
       "      <td>...</td>\n",
       "      <td>87.5</td>\n",
       "      <td>University of Maryland Medical System</td>\n",
       "      <td>MD</td>\n",
       "      <td>0</td>\n",
       "      <td>36</td>\n",
       "      <td>10000+</td>\n",
       "      <td>data scientist</td>\n",
       "      <td>na</td>\n",
       "      <td>4783</td>\n",
       "      <td>0</td>\n",
       "    </tr>\n",
       "    <tr>\n",
       "      <th>2</th>\n",
       "      <td>Data Scientist</td>\n",
       "      <td>$80K-$90K (Glassdoor est.)</td>\n",
       "      <td>KnowBe4, Inc. is a high growth information sec...</td>\n",
       "      <td>4.8</td>\n",
       "      <td>KnowBe4\\n4.8</td>\n",
       "      <td>Clearwater, FL</td>\n",
       "      <td>Clearwater, FL</td>\n",
       "      <td>501 to 1000 employees</td>\n",
       "      <td>2010</td>\n",
       "      <td>Company - Private</td>\n",
       "      <td>...</td>\n",
       "      <td>85.0</td>\n",
       "      <td>KnowBe4</td>\n",
       "      <td>FL</td>\n",
       "      <td>1</td>\n",
       "      <td>10</td>\n",
       "      <td>501 - 1000</td>\n",
       "      <td>data scientist</td>\n",
       "      <td>na</td>\n",
       "      <td>3461</td>\n",
       "      <td>0</td>\n",
       "    </tr>\n",
       "    <tr>\n",
       "      <th>3</th>\n",
       "      <td>Data Scientist</td>\n",
       "      <td>$56K-$97K (Glassdoor est.)</td>\n",
       "      <td>*Organization and Job ID**\\nJob ID: 310709\\n\\n...</td>\n",
       "      <td>3.8</td>\n",
       "      <td>PNNL\\n3.8</td>\n",
       "      <td>Richland, WA</td>\n",
       "      <td>Richland, WA</td>\n",
       "      <td>1001 to 5000 employees</td>\n",
       "      <td>1965</td>\n",
       "      <td>Government</td>\n",
       "      <td>...</td>\n",
       "      <td>76.5</td>\n",
       "      <td>PNNL</td>\n",
       "      <td>WA</td>\n",
       "      <td>1</td>\n",
       "      <td>55</td>\n",
       "      <td>1001 - 5000</td>\n",
       "      <td>data scientist</td>\n",
       "      <td>na</td>\n",
       "      <td>3883</td>\n",
       "      <td>3</td>\n",
       "    </tr>\n",
       "    <tr>\n",
       "      <th>4</th>\n",
       "      <td>Data Scientist</td>\n",
       "      <td>$86K-$143K (Glassdoor est.)</td>\n",
       "      <td>Data Scientist\\nAffinity Solutions / Marketing...</td>\n",
       "      <td>2.9</td>\n",
       "      <td>Affinity Solutions\\n2.9</td>\n",
       "      <td>New York, NY</td>\n",
       "      <td>New York, NY</td>\n",
       "      <td>51 to 200 employees</td>\n",
       "      <td>1998</td>\n",
       "      <td>Company - Private</td>\n",
       "      <td>...</td>\n",
       "      <td>114.5</td>\n",
       "      <td>Affinity Solutions</td>\n",
       "      <td>NY</td>\n",
       "      <td>1</td>\n",
       "      <td>22</td>\n",
       "      <td>51 - 200</td>\n",
       "      <td>data scientist</td>\n",
       "      <td>na</td>\n",
       "      <td>2728</td>\n",
       "      <td>3</td>\n",
       "    </tr>\n",
       "  </tbody>\n",
       "</table>\n",
       "<p>5 rows × 28 columns</p>\n",
       "</div>"
      ],
      "text/plain": [
       "                   Job Title              Salary Estimate  \\\n",
       "0             Data Scientist   $53K-$91K (Glassdoor est.)   \n",
       "1  Healthcare Data Scientist  $63K-$112K (Glassdoor est.)   \n",
       "2             Data Scientist   $80K-$90K (Glassdoor est.)   \n",
       "3             Data Scientist   $56K-$97K (Glassdoor est.)   \n",
       "4             Data Scientist  $86K-$143K (Glassdoor est.)   \n",
       "\n",
       "                                     Job Description  Rating  \\\n",
       "0  Data Scientist\\nLocation: Albuquerque, NM\\nEdu...     3.8   \n",
       "1  What You Will Do:\\n\\nI. General Summary\\n\\nThe...     3.4   \n",
       "2  KnowBe4, Inc. is a high growth information sec...     4.8   \n",
       "3  *Organization and Job ID**\\nJob ID: 310709\\n\\n...     3.8   \n",
       "4  Data Scientist\\nAffinity Solutions / Marketing...     2.9   \n",
       "\n",
       "                                 Company Name         Location  \\\n",
       "0                      Tecolote Research\\n3.8  Albuquerque, NM   \n",
       "1  University of Maryland Medical System\\n3.4    Linthicum, MD   \n",
       "2                                KnowBe4\\n4.8   Clearwater, FL   \n",
       "3                                   PNNL\\n3.8     Richland, WA   \n",
       "4                     Affinity Solutions\\n2.9     New York, NY   \n",
       "\n",
       "     Headquarters                    Size  Founded   Type of ownership  ...  \\\n",
       "0      Goleta, CA   501 to 1000 employees     1973   Company - Private  ...   \n",
       "1   Baltimore, MD        10000+ employees     1984  Other Organization  ...   \n",
       "2  Clearwater, FL   501 to 1000 employees     2010   Company - Private  ...   \n",
       "3    Richland, WA  1001 to 5000 employees     1965          Government  ...   \n",
       "4    New York, NY     51 to 200 employees     1998   Company - Private  ...   \n",
       "\n",
       "  avg_salary                                   comp job_state loc_hq_same  \\\n",
       "0       72.0                      Tecolote Research        NM           0   \n",
       "1       87.5  University of Maryland Medical System        MD           0   \n",
       "2       85.0                                KnowBe4        FL           1   \n",
       "3       76.5                                   PNNL        WA           1   \n",
       "4      114.5                     Affinity Solutions        NY           1   \n",
       "\n",
       "   age    size_crct      job_simple  seniority  description_len  \\\n",
       "0   47   501 - 1000  data scientist         na             2536   \n",
       "1   36       10000+  data scientist         na             4783   \n",
       "2   10   501 - 1000  data scientist         na             3461   \n",
       "3   55  1001 - 5000  data scientist         na             3883   \n",
       "4   22     51 - 200  data scientist         na             2728   \n",
       "\n",
       "  Competitors_num  \n",
       "0               0  \n",
       "1               0  \n",
       "2               0  \n",
       "3               3  \n",
       "4               3  \n",
       "\n",
       "[5 rows x 28 columns]"
      ]
     },
     "execution_count": 61,
     "metadata": {},
     "output_type": "execute_result"
    }
   ],
   "source": [
    "df.head()"
   ]
  },
  {
   "cell_type": "code",
   "execution_count": 7,
   "metadata": {
    "scrolled": true
   },
   "outputs": [
    {
     "data": {
      "text/plain": [
       "Index(['Job Title', 'Salary Estimate', 'Job Description', 'Rating',\n",
       "       'Company Name', 'Location', 'Headquarters', 'Size', 'Founded',\n",
       "       'Type of ownership', 'Industry', 'Sector', 'Revenue', 'Competitors',\n",
       "       'hourly', 'employer_provided', 'min_salary', 'max_salary', 'avg_salary',\n",
       "       'comp', 'job_state', 'loc_hq_same', 'age', 'size_crct'],\n",
       "      dtype='object')"
      ]
     },
     "execution_count": 7,
     "metadata": {},
     "output_type": "execute_result"
    }
   ],
   "source": [
    "df.columns"
   ]
  },
  {
   "cell_type": "code",
   "execution_count": 9,
   "metadata": {},
   "outputs": [
    {
     "data": {
      "text/plain": [
       "0                             Data Scientist\n",
       "1                  Healthcare Data Scientist\n",
       "2                             Data Scientist\n",
       "3                             Data Scientist\n",
       "4                             Data Scientist\n",
       "5                             Data Scientist\n",
       "6                             Data Scientist\n",
       "7                             Data Scientist\n",
       "8                         Research Scientist\n",
       "9                             Data Scientist\n",
       "10                            Data Scientist\n",
       "11                            Data Scientist\n",
       "12         Staff Data Scientist - Technology\n",
       "13                              Data Analyst\n",
       "14                            Data Scientist\n",
       "15                           Data Engineer I\n",
       "16                   Scientist I/II, Biology\n",
       "17                   Customer Data Scientist\n",
       "18    Data Scientist - Health Data Analytics\n",
       "19                            Data Scientist\n",
       "Name: Job Title, dtype: object"
      ]
     },
     "execution_count": 9,
     "metadata": {},
     "output_type": "execute_result"
    }
   ],
   "source": [
    "df[\"Job Title\"].head(20)"
   ]
  },
  {
   "cell_type": "code",
   "execution_count": 43,
   "metadata": {},
   "outputs": [
    {
     "data": {
      "text/plain": [
       "CA             151\n",
       "MA             103\n",
       "NY              72\n",
       "VA              41\n",
       "IL              40\n",
       "MD              35\n",
       "PA              33\n",
       "TX              28\n",
       "WA              21\n",
       "NC              21\n",
       "NJ              17\n",
       "FL              16\n",
       "OH              14\n",
       "TN              13\n",
       "DC              11\n",
       "CO              11\n",
       "WI              10\n",
       "UT              10\n",
       "IN              10\n",
       "MO               9\n",
       "AZ               9\n",
       "AL               8\n",
       "KY               6\n",
       "DE               6\n",
       "GA               6\n",
       "MI               6\n",
       "CT               5\n",
       "IA               5\n",
       "OR               4\n",
       "NE               4\n",
       "LA               4\n",
       "KS               3\n",
       "NM               3\n",
       "ID               2\n",
       "MN               2\n",
       "Los Angeles      1\n",
       "SC               1\n",
       "RI               1\n",
       "Name: job_state, dtype: int64"
      ]
     },
     "execution_count": 43,
     "metadata": {},
     "output_type": "execute_result"
    }
   ],
   "source": [
    "df['job_state'] = df.job_state.apply(lambda x: x.strip() if x.strip().lower != 'los angeles' else 'CA')\n",
    "df.job_state.value_counts()"
   ]
  },
  {
   "cell_type": "code",
   "execution_count": 44,
   "metadata": {},
   "outputs": [],
   "source": [
    "def title(title):\n",
    "    if 'data scientist' in title.lower():\n",
    "        return 'data scientist'\n",
    "    elif 'machine learning' in title.lower():\n",
    "        return 'ml'\n",
    "    elif 'manager' in title.lower():\n",
    "        return 'manager'\n",
    "    elif 'director' in title.lower():\n",
    "        return 'director'\n",
    "    elif 'data engineer' in title.lower():\n",
    "        return 'data engineer'\n",
    "    elif 'analyst' in title.lower():\n",
    "        return 'analyst'\n",
    "    else:\n",
    "        return 'na'\n",
    "    \n",
    "def seniority(title):\n",
    "    if 'sr' in title.lower() or 'senior' in title.lower() or 'lead' in title.lower() or 'principal' in title.lower():\n",
    "        return 'senior'\n",
    "    elif 'jr' in title.lower() or 'jr.' in title.lower():\n",
    "        return 'jr'\n",
    "    else:\n",
    "        return 'na'"
   ]
  },
  {
   "cell_type": "code",
   "execution_count": 45,
   "metadata": {},
   "outputs": [
    {
     "data": {
      "text/plain": [
       "data scientist    279\n",
       "na                184\n",
       "data engineer     116\n",
       "analyst           102\n",
       "ml                 22\n",
       "manager            22\n",
       "director           17\n",
       "Name: job_simple, dtype: int64"
      ]
     },
     "execution_count": 45,
     "metadata": {},
     "output_type": "execute_result"
    }
   ],
   "source": [
    "df['job_simple'] = df['Job Title'].apply(title)\n",
    "df.job_simple.value_counts()"
   ]
  },
  {
   "cell_type": "code",
   "execution_count": 46,
   "metadata": {},
   "outputs": [
    {
     "data": {
      "text/plain": [
       "na        520\n",
       "senior    220\n",
       "jr          2\n",
       "Name: seniority, dtype: int64"
      ]
     },
     "execution_count": 46,
     "metadata": {},
     "output_type": "execute_result"
    }
   ],
   "source": [
    "df['seniority'] = df['Job Title'].apply(seniority)\n",
    "df.seniority.value_counts()"
   ]
  },
  {
   "cell_type": "code",
   "execution_count": 47,
   "metadata": {},
   "outputs": [
    {
     "data": {
      "text/plain": [
       "0      2536\n",
       "1      4783\n",
       "2      3461\n",
       "3      3883\n",
       "4      2728\n",
       "       ... \n",
       "737    6162\n",
       "738    6130\n",
       "739    3078\n",
       "740    1642\n",
       "741    3673\n",
       "Name: description_len, Length: 742, dtype: int64"
      ]
     },
     "execution_count": 47,
     "metadata": {},
     "output_type": "execute_result"
    }
   ],
   "source": [
    "df['description_len'] = df['Job Description'].apply(lambda x: len(x))\n",
    "df.description_len"
   ]
  },
  {
   "cell_type": "code",
   "execution_count": 49,
   "metadata": {},
   "outputs": [
    {
     "data": {
      "text/plain": [
       "0    460\n",
       "3    228\n",
       "2     41\n",
       "1     12\n",
       "4      1\n",
       "Name: Competitors_num, dtype: int64"
      ]
     },
     "execution_count": 49,
     "metadata": {},
     "output_type": "execute_result"
    }
   ],
   "source": [
    "#df.Competitors = str(df.Competitors)\n",
    "df['Competitors_num'] = df.Competitors.apply(lambda x: len(x.split(',')) if x != '-1' else 0)\n",
    "df.Competitors_num.value_counts()"
   ]
  },
  {
   "cell_type": "code",
   "execution_count": 57,
   "metadata": {},
   "outputs": [
    {
     "data": {
      "text/html": [
       "<div>\n",
       "<style scoped>\n",
       "    .dataframe tbody tr th:only-of-type {\n",
       "        vertical-align: middle;\n",
       "    }\n",
       "\n",
       "    .dataframe tbody tr th {\n",
       "        vertical-align: top;\n",
       "    }\n",
       "\n",
       "    .dataframe thead th {\n",
       "        text-align: right;\n",
       "    }\n",
       "</style>\n",
       "<table border=\"1\" class=\"dataframe\">\n",
       "  <thead>\n",
       "    <tr style=\"text-align: right;\">\n",
       "      <th></th>\n",
       "      <th>Rating</th>\n",
       "      <th>Founded</th>\n",
       "      <th>hourly</th>\n",
       "      <th>employer_provided</th>\n",
       "      <th>min_salary</th>\n",
       "      <th>max_salary</th>\n",
       "      <th>avg_salary</th>\n",
       "      <th>loc_hq_same</th>\n",
       "      <th>age</th>\n",
       "      <th>description_len</th>\n",
       "      <th>Competitors_num</th>\n",
       "    </tr>\n",
       "  </thead>\n",
       "  <tbody>\n",
       "    <tr>\n",
       "      <th>count</th>\n",
       "      <td>742.000000</td>\n",
       "      <td>742.000000</td>\n",
       "      <td>742.000000</td>\n",
       "      <td>742.000000</td>\n",
       "      <td>742.000000</td>\n",
       "      <td>742.000000</td>\n",
       "      <td>742.000000</td>\n",
       "      <td>742.000000</td>\n",
       "      <td>742.000000</td>\n",
       "      <td>742.000000</td>\n",
       "      <td>742.000000</td>\n",
       "    </tr>\n",
       "    <tr>\n",
       "      <th>mean</th>\n",
       "      <td>3.618868</td>\n",
       "      <td>1837.154987</td>\n",
       "      <td>0.032345</td>\n",
       "      <td>0.022911</td>\n",
       "      <td>74.068733</td>\n",
       "      <td>127.183288</td>\n",
       "      <td>100.626011</td>\n",
       "      <td>0.557951</td>\n",
       "      <td>182.845013</td>\n",
       "      <td>3869.545822</td>\n",
       "      <td>1.053908</td>\n",
       "    </tr>\n",
       "    <tr>\n",
       "      <th>std</th>\n",
       "      <td>0.801210</td>\n",
       "      <td>497.183763</td>\n",
       "      <td>0.177034</td>\n",
       "      <td>0.149721</td>\n",
       "      <td>31.869282</td>\n",
       "      <td>46.909006</td>\n",
       "      <td>38.855948</td>\n",
       "      <td>0.496965</td>\n",
       "      <td>497.183763</td>\n",
       "      <td>1521.495868</td>\n",
       "      <td>1.384239</td>\n",
       "    </tr>\n",
       "    <tr>\n",
       "      <th>min</th>\n",
       "      <td>-1.000000</td>\n",
       "      <td>-1.000000</td>\n",
       "      <td>0.000000</td>\n",
       "      <td>0.000000</td>\n",
       "      <td>10.000000</td>\n",
       "      <td>16.000000</td>\n",
       "      <td>13.500000</td>\n",
       "      <td>0.000000</td>\n",
       "      <td>1.000000</td>\n",
       "      <td>407.000000</td>\n",
       "      <td>0.000000</td>\n",
       "    </tr>\n",
       "    <tr>\n",
       "      <th>25%</th>\n",
       "      <td>3.300000</td>\n",
       "      <td>1939.000000</td>\n",
       "      <td>0.000000</td>\n",
       "      <td>0.000000</td>\n",
       "      <td>52.000000</td>\n",
       "      <td>96.000000</td>\n",
       "      <td>73.500000</td>\n",
       "      <td>0.000000</td>\n",
       "      <td>13.000000</td>\n",
       "      <td>2801.000000</td>\n",
       "      <td>0.000000</td>\n",
       "    </tr>\n",
       "    <tr>\n",
       "      <th>50%</th>\n",
       "      <td>3.700000</td>\n",
       "      <td>1988.000000</td>\n",
       "      <td>0.000000</td>\n",
       "      <td>0.000000</td>\n",
       "      <td>69.500000</td>\n",
       "      <td>124.000000</td>\n",
       "      <td>97.500000</td>\n",
       "      <td>1.000000</td>\n",
       "      <td>32.000000</td>\n",
       "      <td>3731.000000</td>\n",
       "      <td>0.000000</td>\n",
       "    </tr>\n",
       "    <tr>\n",
       "      <th>75%</th>\n",
       "      <td>4.000000</td>\n",
       "      <td>2007.000000</td>\n",
       "      <td>0.000000</td>\n",
       "      <td>0.000000</td>\n",
       "      <td>91.000000</td>\n",
       "      <td>155.000000</td>\n",
       "      <td>122.500000</td>\n",
       "      <td>1.000000</td>\n",
       "      <td>81.000000</td>\n",
       "      <td>4740.000000</td>\n",
       "      <td>3.000000</td>\n",
       "    </tr>\n",
       "    <tr>\n",
       "      <th>max</th>\n",
       "      <td>5.000000</td>\n",
       "      <td>2019.000000</td>\n",
       "      <td>1.000000</td>\n",
       "      <td>1.000000</td>\n",
       "      <td>202.000000</td>\n",
       "      <td>306.000000</td>\n",
       "      <td>254.000000</td>\n",
       "      <td>1.000000</td>\n",
       "      <td>2021.000000</td>\n",
       "      <td>10051.000000</td>\n",
       "      <td>4.000000</td>\n",
       "    </tr>\n",
       "  </tbody>\n",
       "</table>\n",
       "</div>"
      ],
      "text/plain": [
       "           Rating      Founded      hourly  employer_provided  min_salary  \\\n",
       "count  742.000000   742.000000  742.000000         742.000000  742.000000   \n",
       "mean     3.618868  1837.154987    0.032345           0.022911   74.068733   \n",
       "std      0.801210   497.183763    0.177034           0.149721   31.869282   \n",
       "min     -1.000000    -1.000000    0.000000           0.000000   10.000000   \n",
       "25%      3.300000  1939.000000    0.000000           0.000000   52.000000   \n",
       "50%      3.700000  1988.000000    0.000000           0.000000   69.500000   \n",
       "75%      4.000000  2007.000000    0.000000           0.000000   91.000000   \n",
       "max      5.000000  2019.000000    1.000000           1.000000  202.000000   \n",
       "\n",
       "       max_salary  avg_salary  loc_hq_same          age  description_len  \\\n",
       "count  742.000000  742.000000   742.000000   742.000000       742.000000   \n",
       "mean   127.183288  100.626011     0.557951   182.845013      3869.545822   \n",
       "std     46.909006   38.855948     0.496965   497.183763      1521.495868   \n",
       "min     16.000000   13.500000     0.000000     1.000000       407.000000   \n",
       "25%     96.000000   73.500000     0.000000    13.000000      2801.000000   \n",
       "50%    124.000000   97.500000     1.000000    32.000000      3731.000000   \n",
       "75%    155.000000  122.500000     1.000000    81.000000      4740.000000   \n",
       "max    306.000000  254.000000     1.000000  2021.000000     10051.000000   \n",
       "\n",
       "       Competitors_num  \n",
       "count       742.000000  \n",
       "mean          1.053908  \n",
       "std           1.384239  \n",
       "min           0.000000  \n",
       "25%           0.000000  \n",
       "50%           0.000000  \n",
       "75%           3.000000  \n",
       "max           4.000000  "
      ]
     },
     "execution_count": 57,
     "metadata": {},
     "output_type": "execute_result"
    }
   ],
   "source": [
    "df['comp'] = df.comp.apply(lambda x: x.replace('\\n',''))\n",
    "df.describe()"
   ]
  },
  {
   "cell_type": "code",
   "execution_count": 68,
   "metadata": {},
   "outputs": [
    {
     "data": {
      "text/html": [
       "<div>\n",
       "<style scoped>\n",
       "    .dataframe tbody tr th:only-of-type {\n",
       "        vertical-align: middle;\n",
       "    }\n",
       "\n",
       "    .dataframe tbody tr th {\n",
       "        vertical-align: top;\n",
       "    }\n",
       "\n",
       "    .dataframe thead th {\n",
       "        text-align: right;\n",
       "    }\n",
       "</style>\n",
       "<table border=\"1\" class=\"dataframe\">\n",
       "  <thead>\n",
       "    <tr style=\"text-align: right;\">\n",
       "      <th></th>\n",
       "      <th>avg_salary</th>\n",
       "    </tr>\n",
       "    <tr>\n",
       "      <th>job_state</th>\n",
       "      <th></th>\n",
       "    </tr>\n",
       "  </thead>\n",
       "  <tbody>\n",
       "    <tr>\n",
       "      <th>CA</th>\n",
       "      <td>123.619205</td>\n",
       "    </tr>\n",
       "    <tr>\n",
       "      <th>IL</th>\n",
       "      <td>116.662500</td>\n",
       "    </tr>\n",
       "    <tr>\n",
       "      <th>DC</th>\n",
       "      <td>110.181818</td>\n",
       "    </tr>\n",
       "    <tr>\n",
       "      <th>Los Angeles</th>\n",
       "      <td>107.500000</td>\n",
       "    </tr>\n",
       "    <tr>\n",
       "      <th>MA</th>\n",
       "      <td>106.281553</td>\n",
       "    </tr>\n",
       "    <tr>\n",
       "      <th>NJ</th>\n",
       "      <td>104.558824</td>\n",
       "    </tr>\n",
       "    <tr>\n",
       "      <th>MI</th>\n",
       "      <td>100.250000</td>\n",
       "    </tr>\n",
       "    <tr>\n",
       "      <th>RI</th>\n",
       "      <td>100.000000</td>\n",
       "    </tr>\n",
       "    <tr>\n",
       "      <th>NY</th>\n",
       "      <td>98.652778</td>\n",
       "    </tr>\n",
       "    <tr>\n",
       "      <th>NC</th>\n",
       "      <td>98.452381</td>\n",
       "    </tr>\n",
       "    <tr>\n",
       "      <th>MD</th>\n",
       "      <td>97.357143</td>\n",
       "    </tr>\n",
       "    <tr>\n",
       "      <th>KY</th>\n",
       "      <td>97.000000</td>\n",
       "    </tr>\n",
       "    <tr>\n",
       "      <th>VA</th>\n",
       "      <td>95.621951</td>\n",
       "    </tr>\n",
       "    <tr>\n",
       "      <th>UT</th>\n",
       "      <td>94.150000</td>\n",
       "    </tr>\n",
       "    <tr>\n",
       "      <th>WA</th>\n",
       "      <td>93.190476</td>\n",
       "    </tr>\n",
       "    <tr>\n",
       "      <th>PA</th>\n",
       "      <td>92.560606</td>\n",
       "    </tr>\n",
       "    <tr>\n",
       "      <th>OR</th>\n",
       "      <td>92.125000</td>\n",
       "    </tr>\n",
       "    <tr>\n",
       "      <th>IN</th>\n",
       "      <td>90.300000</td>\n",
       "    </tr>\n",
       "    <tr>\n",
       "      <th>TX</th>\n",
       "      <td>89.392857</td>\n",
       "    </tr>\n",
       "    <tr>\n",
       "      <th>OH</th>\n",
       "      <td>87.571429</td>\n",
       "    </tr>\n",
       "    <tr>\n",
       "      <th>TN</th>\n",
       "      <td>87.115385</td>\n",
       "    </tr>\n",
       "    <tr>\n",
       "      <th>KS</th>\n",
       "      <td>87.000000</td>\n",
       "    </tr>\n",
       "    <tr>\n",
       "      <th>AZ</th>\n",
       "      <td>85.666667</td>\n",
       "    </tr>\n",
       "    <tr>\n",
       "      <th>MN</th>\n",
       "      <td>85.500000</td>\n",
       "    </tr>\n",
       "    <tr>\n",
       "      <th>MO</th>\n",
       "      <td>84.722222</td>\n",
       "    </tr>\n",
       "    <tr>\n",
       "      <th>GA</th>\n",
       "      <td>80.666667</td>\n",
       "    </tr>\n",
       "    <tr>\n",
       "      <th>IA</th>\n",
       "      <td>78.900000</td>\n",
       "    </tr>\n",
       "    <tr>\n",
       "      <th>FL</th>\n",
       "      <td>77.625000</td>\n",
       "    </tr>\n",
       "    <tr>\n",
       "      <th>CO</th>\n",
       "      <td>77.045455</td>\n",
       "    </tr>\n",
       "    <tr>\n",
       "      <th>NM</th>\n",
       "      <td>74.333333</td>\n",
       "    </tr>\n",
       "    <tr>\n",
       "      <th>WI</th>\n",
       "      <td>73.300000</td>\n",
       "    </tr>\n",
       "    <tr>\n",
       "      <th>CT</th>\n",
       "      <td>71.100000</td>\n",
       "    </tr>\n",
       "    <tr>\n",
       "      <th>SC</th>\n",
       "      <td>60.500000</td>\n",
       "    </tr>\n",
       "    <tr>\n",
       "      <th>AL</th>\n",
       "      <td>57.937500</td>\n",
       "    </tr>\n",
       "    <tr>\n",
       "      <th>ID</th>\n",
       "      <td>56.250000</td>\n",
       "    </tr>\n",
       "    <tr>\n",
       "      <th>LA</th>\n",
       "      <td>52.250000</td>\n",
       "    </tr>\n",
       "    <tr>\n",
       "      <th>NE</th>\n",
       "      <td>41.000000</td>\n",
       "    </tr>\n",
       "    <tr>\n",
       "      <th>DE</th>\n",
       "      <td>27.500000</td>\n",
       "    </tr>\n",
       "  </tbody>\n",
       "</table>\n",
       "</div>"
      ],
      "text/plain": [
       "             avg_salary\n",
       "job_state              \n",
       "CA           123.619205\n",
       "IL           116.662500\n",
       "DC           110.181818\n",
       "Los Angeles  107.500000\n",
       "MA           106.281553\n",
       "NJ           104.558824\n",
       "MI           100.250000\n",
       "RI           100.000000\n",
       "NY            98.652778\n",
       "NC            98.452381\n",
       "MD            97.357143\n",
       "KY            97.000000\n",
       "VA            95.621951\n",
       "UT            94.150000\n",
       "WA            93.190476\n",
       "PA            92.560606\n",
       "OR            92.125000\n",
       "IN            90.300000\n",
       "TX            89.392857\n",
       "OH            87.571429\n",
       "TN            87.115385\n",
       "KS            87.000000\n",
       "AZ            85.666667\n",
       "MN            85.500000\n",
       "MO            84.722222\n",
       "GA            80.666667\n",
       "IA            78.900000\n",
       "FL            77.625000\n",
       "CO            77.045455\n",
       "NM            74.333333\n",
       "WI            73.300000\n",
       "CT            71.100000\n",
       "SC            60.500000\n",
       "AL            57.937500\n",
       "ID            56.250000\n",
       "LA            52.250000\n",
       "NE            41.000000\n",
       "DE            27.500000"
      ]
     },
     "execution_count": 68,
     "metadata": {},
     "output_type": "execute_result"
    }
   ],
   "source": [
    "pd.pivot_table(df, index = 'job_state', values = 'avg_salary').sort_values(by = 'avg_salary', ascending = False)"
   ]
  },
  {
   "cell_type": "code",
   "execution_count": 69,
   "metadata": {},
   "outputs": [
    {
     "data": {
      "text/html": [
       "<div>\n",
       "<style scoped>\n",
       "    .dataframe tbody tr th:only-of-type {\n",
       "        vertical-align: middle;\n",
       "    }\n",
       "\n",
       "    .dataframe tbody tr th {\n",
       "        vertical-align: top;\n",
       "    }\n",
       "\n",
       "    .dataframe thead th {\n",
       "        text-align: right;\n",
       "    }\n",
       "</style>\n",
       "<table border=\"1\" class=\"dataframe\">\n",
       "  <thead>\n",
       "    <tr style=\"text-align: right;\">\n",
       "      <th></th>\n",
       "      <th>avg_salary</th>\n",
       "    </tr>\n",
       "    <tr>\n",
       "      <th>job_simple</th>\n",
       "      <th></th>\n",
       "    </tr>\n",
       "  </thead>\n",
       "  <tbody>\n",
       "    <tr>\n",
       "      <th>director</th>\n",
       "      <td>166.117647</td>\n",
       "    </tr>\n",
       "    <tr>\n",
       "      <th>ml</th>\n",
       "      <td>126.431818</td>\n",
       "    </tr>\n",
       "    <tr>\n",
       "      <th>data scientist</th>\n",
       "      <td>117.564516</td>\n",
       "    </tr>\n",
       "    <tr>\n",
       "      <th>data engineer</th>\n",
       "      <td>104.133621</td>\n",
       "    </tr>\n",
       "    <tr>\n",
       "      <th>na</th>\n",
       "      <td>84.853261</td>\n",
       "    </tr>\n",
       "    <tr>\n",
       "      <th>manager</th>\n",
       "      <td>84.022727</td>\n",
       "    </tr>\n",
       "    <tr>\n",
       "      <th>analyst</th>\n",
       "      <td>65.857843</td>\n",
       "    </tr>\n",
       "  </tbody>\n",
       "</table>\n",
       "</div>"
      ],
      "text/plain": [
       "                avg_salary\n",
       "job_simple                \n",
       "director        166.117647\n",
       "ml              126.431818\n",
       "data scientist  117.564516\n",
       "data engineer   104.133621\n",
       "na               84.853261\n",
       "manager          84.022727\n",
       "analyst          65.857843"
      ]
     },
     "execution_count": 69,
     "metadata": {},
     "output_type": "execute_result"
    }
   ],
   "source": [
    "pd.pivot_table(df, index = 'job_simple', values = 'avg_salary').sort_values(by = 'avg_salary', ascending = False)"
   ]
  },
  {
   "cell_type": "code",
   "execution_count": 71,
   "metadata": {},
   "outputs": [
    {
     "data": {
      "text/html": [
       "<div>\n",
       "<style scoped>\n",
       "    .dataframe tbody tr th:only-of-type {\n",
       "        vertical-align: middle;\n",
       "    }\n",
       "\n",
       "    .dataframe tbody tr th {\n",
       "        vertical-align: top;\n",
       "    }\n",
       "\n",
       "    .dataframe thead th {\n",
       "        text-align: right;\n",
       "    }\n",
       "</style>\n",
       "<table border=\"1\" class=\"dataframe\">\n",
       "  <thead>\n",
       "    <tr style=\"text-align: right;\">\n",
       "      <th></th>\n",
       "      <th></th>\n",
       "      <th>avg_salary</th>\n",
       "    </tr>\n",
       "    <tr>\n",
       "      <th>job_simple</th>\n",
       "      <th>seniority</th>\n",
       "      <th></th>\n",
       "    </tr>\n",
       "  </thead>\n",
       "  <tbody>\n",
       "    <tr>\n",
       "      <th>director</th>\n",
       "      <th>na</th>\n",
       "      <td>166.117647</td>\n",
       "    </tr>\n",
       "    <tr>\n",
       "      <th>ml</th>\n",
       "      <th>senior</th>\n",
       "      <td>142.071429</td>\n",
       "    </tr>\n",
       "    <tr>\n",
       "      <th>data scientist</th>\n",
       "      <th>senior</th>\n",
       "      <td>138.956522</td>\n",
       "    </tr>\n",
       "    <tr>\n",
       "      <th>data engineer</th>\n",
       "      <th>senior</th>\n",
       "      <td>124.689189</td>\n",
       "    </tr>\n",
       "    <tr>\n",
       "      <th>ml</th>\n",
       "      <th>na</th>\n",
       "      <td>119.133333</td>\n",
       "    </tr>\n",
       "    <tr>\n",
       "      <th>na</th>\n",
       "      <th>senior</th>\n",
       "      <td>109.061404</td>\n",
       "    </tr>\n",
       "    <tr>\n",
       "      <th rowspan=\"2\" valign=\"top\">data scientist</th>\n",
       "      <th>na</th>\n",
       "      <td>107.043011</td>\n",
       "    </tr>\n",
       "    <tr>\n",
       "      <th>jr</th>\n",
       "      <td>106.500000</td>\n",
       "    </tr>\n",
       "    <tr>\n",
       "      <th>data engineer</th>\n",
       "      <th>na</th>\n",
       "      <td>94.506329</td>\n",
       "    </tr>\n",
       "    <tr>\n",
       "      <th>manager</th>\n",
       "      <th>na</th>\n",
       "      <td>84.022727</td>\n",
       "    </tr>\n",
       "    <tr>\n",
       "      <th>analyst</th>\n",
       "      <th>senior</th>\n",
       "      <td>79.092593</td>\n",
       "    </tr>\n",
       "    <tr>\n",
       "      <th>na</th>\n",
       "      <th>na</th>\n",
       "      <td>73.988189</td>\n",
       "    </tr>\n",
       "    <tr>\n",
       "      <th rowspan=\"2\" valign=\"top\">analyst</th>\n",
       "      <th>na</th>\n",
       "      <td>61.155405</td>\n",
       "    </tr>\n",
       "    <tr>\n",
       "      <th>jr</th>\n",
       "      <td>56.500000</td>\n",
       "    </tr>\n",
       "  </tbody>\n",
       "</table>\n",
       "</div>"
      ],
      "text/plain": [
       "                          avg_salary\n",
       "job_simple     seniority            \n",
       "director       na         166.117647\n",
       "ml             senior     142.071429\n",
       "data scientist senior     138.956522\n",
       "data engineer  senior     124.689189\n",
       "ml             na         119.133333\n",
       "na             senior     109.061404\n",
       "data scientist na         107.043011\n",
       "               jr         106.500000\n",
       "data engineer  na          94.506329\n",
       "manager        na          84.022727\n",
       "analyst        senior      79.092593\n",
       "na             na          73.988189\n",
       "analyst        na          61.155405\n",
       "               jr          56.500000"
      ]
     },
     "execution_count": 71,
     "metadata": {},
     "output_type": "execute_result"
    }
   ],
   "source": [
    "pd.pivot_table(df, index = ['job_simple','seniority'], values = 'avg_salary').sort_values(by = 'avg_salary', ascending = False)"
   ]
  },
  {
   "cell_type": "code",
   "execution_count": 118,
   "metadata": {},
   "outputs": [
    {
     "data": {
      "text/plain": [
       "array([[<matplotlib.axes._subplots.AxesSubplot object at 0x0000022CCA863F88>,\n",
       "        <matplotlib.axes._subplots.AxesSubplot object at 0x0000022CCB267AC8>,\n",
       "        <matplotlib.axes._subplots.AxesSubplot object at 0x0000022CCB2F4C88>],\n",
       "       [<matplotlib.axes._subplots.AxesSubplot object at 0x0000022CCB30B6C8>,\n",
       "        <matplotlib.axes._subplots.AxesSubplot object at 0x0000022CCAB4C0C8>,\n",
       "        <matplotlib.axes._subplots.AxesSubplot object at 0x0000022CCAB82A88>],\n",
       "       [<matplotlib.axes._subplots.AxesSubplot object at 0x0000022CCABBC488>,\n",
       "        <matplotlib.axes._subplots.AxesSubplot object at 0x0000022CCABF61C8>,\n",
       "        <matplotlib.axes._subplots.AxesSubplot object at 0x0000022CCABFCD88>],\n",
       "       [<matplotlib.axes._subplots.AxesSubplot object at 0x0000022CCAC33F48>,\n",
       "        <matplotlib.axes._subplots.AxesSubplot object at 0x0000022CCAC9F508>,\n",
       "        <matplotlib.axes._subplots.AxesSubplot object at 0x0000022CCACD9588>]],\n",
       "      dtype=object)"
      ]
     },
     "execution_count": 118,
     "metadata": {},
     "output_type": "execute_result"
    },
    {
     "data": {
      "image/png": "[encoded data removed]",
      "text/plain": [
       "<Figure size 1152x1440 with 12 Axes>"
      ]
     },
     "metadata": {
      "needs_background": "light"
     },
     "output_type": "display_data"
    }
   ],
   "source": [
    "df_num = df.select_dtypes(include = ['float64', 'int64'])\n",
    "df_num.hist(figsize=(16, 20), bins=50, xlabelsize=8, ylabelsize=8)"
   ]
  },
  {
   "cell_type": "code",
   "execution_count": 120,
   "metadata": {},
   "outputs": [
    {
     "data": {
      "text/plain": [
       "<matplotlib.axes._subplots.AxesSubplot at 0x22ccb799808>"
      ]
     },
     "execution_count": 120,
     "metadata": {},
     "output_type": "execute_result"
    },
    {
     "data": {
      "image/png": "[encoded data removed]",
      "text/plain": [
       "<Figure size 864x720 with 2 Axes>"
      ]
     },
     "metadata": {
      "needs_background": "light"
     },
     "output_type": "display_data"
    }
   ],
   "source": [
    "mask = np.triu(np.ones_like(df_num.corr(), dtype=np.bool))\n",
    "corr = df_num.corr() # We already examined SalePrice correlations\n",
    "plt.figure(figsize=(12, 10))\n",
    "\n",
    "sns.heatmap(corr[(corr >= 0.5) | (corr <= -0.4)], mask = mask, \n",
    "            cmap='viridis', vmax=1.0, vmin=-1.0, linewidths=0.1,\n",
    "            annot=True, annot_kws={\"size\": 8}, square=True)"
   ]
  },
  {
   "cell_type": "code",
   "execution_count": 122,
   "metadata": {},
   "outputs": [
    {
     "data": {
      "text/plain": [
       "(array([0, 1, 2, 3, 4, 5, 6]), <a list of 7 Text xticklabel objects>)"
      ]
     },
     "execution_count": 122,
     "metadata": {},
     "output_type": "execute_result"
    },
    {
     "data": {
      "image/png": "[encoded data removed]",
      "text/plain": [
       "<Figure size 720x432 with 1 Axes>"
      ]
     },
     "metadata": {
      "needs_background": "light"
     },
     "output_type": "display_data"
    }
   ],
   "source": [
    "plt.figure(figsize = (10, 6))\n",
    "ax = sns.boxplot(x='job_simple', y='avg_salary', data=df)\n",
    "plt.setp(ax.artists, alpha=.5, linewidth=2, edgecolor=\"k\")\n",
    "plt.xticks(rotation=45)"
   ]
  },
  {
   "cell_type": "code",
   "execution_count": 141,
   "metadata": {},
   "outputs": [
    {
     "data": {
      "image/png": "[encoded data removed]",
      "text/plain": [
       "<Figure size 432x288 with 1 Axes>"
      ]
     },
     "metadata": {
      "needs_background": "light"
     },
     "output_type": "display_data"
    },
    {
     "data": {
      "image/png": "[encoded data removed]",
      "text/plain": [
       "<Figure size 432x288 with 1 Axes>"
      ]
     },
     "metadata": {
      "needs_background": "light"
     },
     "output_type": "display_data"
    },
    {
     "data": {
      "image/png": "[encoded data removed]",
      "text/plain": [
       "<Figure size 432x288 with 1 Axes>"
      ]
     },
     "metadata": {
      "needs_background": "light"
     },
     "output_type": "display_data"
    },
    {
     "data": {
      "image/png": "[encoded data removed]",
      "text/plain": [
       "<Figure size 432x288 with 1 Axes>"
      ]
     },
     "metadata": {
      "needs_background": "light"
     },
     "output_type": "display_data"
    },
    {
     "data": {
      "image/png": "[encoded data removed]",
      "text/plain": [
       "<Figure size 432x288 with 1 Axes>"
      ]
     },
     "metadata": {
      "needs_background": "light"
     },
     "output_type": "display_data"
    },
    {
     "data": {
      "image/png": "[encoded data removed]",
      "text/plain": [
       "<Figure size 432x288 with 1 Axes>"
      ]
     },
     "metadata": {
      "needs_background": "light"
     },
     "output_type": "display_data"
    },
    {
     "data": {
      "image/png": "[encoded data removed]",
      "text/plain": [
       "<Figure size 432x288 with 1 Axes>"
      ]
     },
     "metadata": {
      "needs_background": "light"
     },
     "output_type": "display_data"
    },
    {
     "data": {
      "image/png": "[encoded data removed]",
      "text/plain": [
       "<Figure size 432x288 with 1 Axes>"
      ]
     },
     "metadata": {
      "needs_background": "light"
     },
     "output_type": "display_data"
    },
    {
     "data": {
      "image/png": "[encoded data removed]",
      "text/plain": [
       "<Figure size 432x288 with 1 Axes>"
      ]
     },
     "metadata": {
      "needs_background": "light"
     },
     "output_type": "display_data"
    }
   ],
   "source": [
    "df_plot = df[['job_state','size_crct','job_simple','Sector','Revenue','seniority','Competitors_num','seniority','loc_hq_same']]\n",
    "for i in df_plot.columns:\n",
    "    job = df[i].value_counts()\n",
    "    chrt = sns.barplot(x = job.index,y=job)\n",
    "    chrt.set_xticklabels(chrt.get_xticklabels() , rotation = 90)\n",
    "    plt.show()"
   ]
  },
  {
   "cell_type": "code",
   "execution_count": 1,
   "metadata": {},
   "outputs": [
    {
     "ename": "NameError",
     "evalue": "name 'df' is not defined",
     "output_type": "error",
     "traceback": [
      "\u001b[1;31m---------------------------------------------------------------------------\u001b[0m",
      "\u001b[1;31mNameError\u001b[0m                                 Traceback (most recent call last)",
      "\u001b[1;32m<ipython-input-1-dd0333cb17a7>\u001b[0m in \u001b[0;36m<module>\u001b[1;34m\u001b[0m\n\u001b[1;32m----> 1\u001b[1;33m \u001b[0mdf\u001b[0m\u001b[1;33m.\u001b[0m\u001b[0mto_csv\u001b[0m\u001b[1;33m(\u001b[0m\u001b[1;34m'C:\\\\ML\\\\Analytics\\\\data_science_proj/eda_data.csv'\u001b[0m\u001b[1;33m)\u001b[0m\u001b[1;33m\u001b[0m\u001b[1;33m\u001b[0m\u001b[0m\n\u001b[0m",
      "\u001b[1;31mNameError\u001b[0m: name 'df' is not defined"
     ]
    }
   ],
   "source": [
    "df.to_csv('C:\\\\ML\\\\Analytics\\\\data_science_proj/eda_data.csv')"
   ]
  },
  {
   "cell_type": "code",
   "execution_count": 2,
   "metadata": {},
   "outputs": [
    {
     "data": {
      "text/html": [
       "<table class=\"simpletable\">\n",
       "<caption>OLS Regression Results</caption>\n",
       "<tr>\n",
       "  <th>Dep. Variable:</th>            <td>y</td>        <th>  R-squared:         </th> <td>   0.643</td>\n",
       "</tr>\n",
       "<tr>\n",
       "  <th>Model:</th>                   <td>OLS</td>       <th>  Adj. R-squared:    </th> <td>   0.585</td>\n",
       "</tr>\n",
       "<tr>\n",
       "  <th>Method:</th>             <td>Least Squares</td>  <th>  F-statistic:       </th> <td>   11.15</td>\n",
       "</tr>\n",
       "<tr>\n",
       "  <th>Date:</th>             <td>Tue, 16 Jun 2020</td> <th>  Prob (F-statistic):</th> <td>3.33e-90</td>\n",
       "</tr>\n",
       "<tr>\n",
       "  <th>Time:</th>                 <td>20:41:56</td>     <th>  Log-Likelihood:    </th> <td> -3386.1</td>\n",
       "</tr>\n",
       "<tr>\n",
       "  <th>No. Observations:</th>      <td>   742</td>      <th>  AIC:               </th> <td>   6980.</td>\n",
       "</tr>\n",
       "<tr>\n",
       "  <th>Df Residuals:</th>          <td>   638</td>      <th>  BIC:               </th> <td>   7459.</td>\n",
       "</tr>\n",
       "<tr>\n",
       "  <th>Df Model:</th>              <td>   103</td>      <th>                     </th>     <td> </td>   \n",
       "</tr>\n",
       "<tr>\n",
       "  <th>Covariance Type:</th>      <td>nonrobust</td>    <th>                     </th>     <td> </td>   \n",
       "</tr>\n",
       "</table>\n",
       "<table class=\"simpletable\">\n",
       "<tr>\n",
       "                          <td></td>                             <th>coef</th>     <th>std err</th>      <th>t</th>      <th>P>|t|</th>  <th>[0.025</th>    <th>0.975]</th>  \n",
       "</tr>\n",
       "<tr>\n",
       "  <th>const</th>                                             <td>   66.6459</td> <td>   12.743</td> <td>    5.230</td> <td> 0.000</td> <td>   41.623</td> <td>   91.669</td>\n",
       "</tr>\n",
       "<tr>\n",
       "  <th>Rating</th>                                            <td>   -0.6039</td> <td>    1.947</td> <td>   -0.310</td> <td> 0.757</td> <td>   -4.427</td> <td>    3.219</td>\n",
       "</tr>\n",
       "<tr>\n",
       "  <th>age</th>                                               <td>    0.0026</td> <td>    0.003</td> <td>    0.837</td> <td> 0.403</td> <td>   -0.004</td> <td>    0.009</td>\n",
       "</tr>\n",
       "<tr>\n",
       "  <th>hourly</th>                                            <td>  -40.4776</td> <td>    8.268</td> <td>   -4.895</td> <td> 0.000</td> <td>  -56.714</td> <td>  -24.241</td>\n",
       "</tr>\n",
       "<tr>\n",
       "  <th>employer_provided</th>                                 <td>   29.0048</td> <td>   11.541</td> <td>    2.513</td> <td> 0.012</td> <td>    6.342</td> <td>   51.668</td>\n",
       "</tr>\n",
       "<tr>\n",
       "  <th>loc_hq_same</th>                                       <td>    5.6517</td> <td>    2.538</td> <td>    2.227</td> <td> 0.026</td> <td>    0.669</td> <td>   10.635</td>\n",
       "</tr>\n",
       "<tr>\n",
       "  <th>description_len</th>                                   <td>   -0.0003</td> <td>    0.001</td> <td>   -0.446</td> <td> 0.656</td> <td>   -0.002</td> <td>    0.001</td>\n",
       "</tr>\n",
       "<tr>\n",
       "  <th>Competitors_num</th>                                   <td>    2.5523</td> <td>    0.864</td> <td>    2.954</td> <td> 0.003</td> <td>    0.856</td> <td>    4.249</td>\n",
       "</tr>\n",
       "<tr>\n",
       "  <th>Type of ownership_-1</th>                              <td>   13.5425</td> <td>   12.520</td> <td>    1.082</td> <td> 0.280</td> <td>  -11.043</td> <td>   38.128</td>\n",
       "</tr>\n",
       "<tr>\n",
       "  <th>Type of ownership_College / University</th>            <td>    4.7512</td> <td>   16.903</td> <td>    0.281</td> <td> 0.779</td> <td>  -28.441</td> <td>   37.943</td>\n",
       "</tr>\n",
       "<tr>\n",
       "  <th>Type of ownership_Company - Private</th>               <td>   16.2675</td> <td>    5.033</td> <td>    3.232</td> <td> 0.001</td> <td>    6.385</td> <td>   26.150</td>\n",
       "</tr>\n",
       "<tr>\n",
       "  <th>Type of ownership_Company - Public</th>                <td>   20.3444</td> <td>    5.555</td> <td>    3.663</td> <td> 0.000</td> <td>    9.437</td> <td>   31.252</td>\n",
       "</tr>\n",
       "<tr>\n",
       "  <th>Type of ownership_Government</th>                      <td>  -10.0701</td> <td>   13.807</td> <td>   -0.729</td> <td> 0.466</td> <td>  -37.183</td> <td>   17.042</td>\n",
       "</tr>\n",
       "<tr>\n",
       "  <th>Type of ownership_Hospital</th>                        <td>   -5.5515</td> <td>    9.610</td> <td>   -0.578</td> <td> 0.564</td> <td>  -24.423</td> <td>   13.320</td>\n",
       "</tr>\n",
       "<tr>\n",
       "  <th>Type of ownership_Nonprofit Organization</th>          <td>    3.4768</td> <td>    6.595</td> <td>    0.527</td> <td> 0.598</td> <td>   -9.474</td> <td>   16.428</td>\n",
       "</tr>\n",
       "<tr>\n",
       "  <th>Type of ownership_Other Organization</th>              <td>    1.6641</td> <td>   14.629</td> <td>    0.114</td> <td> 0.909</td> <td>  -27.063</td> <td>   30.391</td>\n",
       "</tr>\n",
       "<tr>\n",
       "  <th>Type of ownership_School / School District</th>        <td>   -7.1108</td> <td>   24.306</td> <td>   -0.293</td> <td> 0.770</td> <td>  -54.841</td> <td>   40.620</td>\n",
       "</tr>\n",
       "<tr>\n",
       "  <th>Type of ownership_Subsidiary or Business Segment</th>  <td>   24.7972</td> <td>    6.653</td> <td>    3.727</td> <td> 0.000</td> <td>   11.732</td> <td>   37.862</td>\n",
       "</tr>\n",
       "<tr>\n",
       "  <th>Type of ownership_Unknown</th>                         <td>    4.5347</td> <td>   27.013</td> <td>    0.168</td> <td> 0.867</td> <td>  -48.510</td> <td>   57.580</td>\n",
       "</tr>\n",
       "<tr>\n",
       "  <th>Industry_-1</th>                                       <td>   -4.6775</td> <td>    7.840</td> <td>   -0.597</td> <td> 0.551</td> <td>  -20.073</td> <td>   10.718</td>\n",
       "</tr>\n",
       "<tr>\n",
       "  <th>Industry_Accounting</th>                               <td>    3.6053</td> <td>   14.277</td> <td>    0.253</td> <td> 0.801</td> <td>  -24.430</td> <td>   31.641</td>\n",
       "</tr>\n",
       "<tr>\n",
       "  <th>Industry_Advertising & Marketing</th>                  <td>    3.8797</td> <td>    5.932</td> <td>    0.654</td> <td> 0.513</td> <td>   -7.769</td> <td>   15.529</td>\n",
       "</tr>\n",
       "<tr>\n",
       "  <th>Industry_Aerospace & Defense</th>                      <td>    6.7876</td> <td>    2.959</td> <td>    2.294</td> <td> 0.022</td> <td>    0.977</td> <td>   12.598</td>\n",
       "</tr>\n",
       "<tr>\n",
       "  <th>Industry_Architectural & Engineering Services</th>     <td>  -13.4747</td> <td>   13.715</td> <td>   -0.982</td> <td> 0.326</td> <td>  -40.408</td> <td>   13.458</td>\n",
       "</tr>\n",
       "<tr>\n",
       "  <th>Industry_Auctions & Galleries</th>                     <td>   13.2970</td> <td>   23.114</td> <td>    0.575</td> <td> 0.565</td> <td>  -32.092</td> <td>   58.686</td>\n",
       "</tr>\n",
       "<tr>\n",
       "  <th>Industry_Banks & Credit Unions</th>                    <td>  -12.5109</td> <td>    7.894</td> <td>   -1.585</td> <td> 0.113</td> <td>  -28.012</td> <td>    2.990</td>\n",
       "</tr>\n",
       "<tr>\n",
       "  <th>Industry_Beauty & Personal Accessories Stores</th>     <td>   23.6030</td> <td>   22.778</td> <td>    1.036</td> <td> 0.301</td> <td>  -21.127</td> <td>   68.333</td>\n",
       "</tr>\n",
       "<tr>\n",
       "  <th>Industry_Biotech & Pharmaceuticals</th>                <td>    5.6074</td> <td>    2.028</td> <td>    2.765</td> <td> 0.006</td> <td>    1.626</td> <td>    9.589</td>\n",
       "</tr>\n",
       "<tr>\n",
       "  <th>Industry_Brokerage Services</th>                       <td>   34.2573</td> <td>   16.221</td> <td>    2.112</td> <td> 0.035</td> <td>    2.404</td> <td>   66.111</td>\n",
       "</tr>\n",
       "<tr>\n",
       "  <th>Industry_Colleges & Universities</th>                  <td>    9.6305</td> <td>   13.286</td> <td>    0.725</td> <td> 0.469</td> <td>  -16.458</td> <td>   35.719</td>\n",
       "</tr>\n",
       "<tr>\n",
       "  <th>Industry_Computer Hardware & Software</th>             <td>    3.6187</td> <td>    3.308</td> <td>    1.094</td> <td> 0.274</td> <td>   -2.878</td> <td>   10.115</td>\n",
       "</tr>\n",
       "<tr>\n",
       "  <th>Industry_Construction</th>                             <td>  -17.0625</td> <td>   10.643</td> <td>   -1.603</td> <td> 0.109</td> <td>  -37.962</td> <td>    3.837</td>\n",
       "</tr>\n",
       "<tr>\n",
       "  <th>Industry_Consulting</th>                               <td>   13.0855</td> <td>    5.632</td> <td>    2.324</td> <td> 0.020</td> <td>    2.027</td> <td>   24.144</td>\n",
       "</tr>\n",
       "<tr>\n",
       "  <th>Industry_Consumer Product Rental</th>                  <td>  -13.0020</td> <td>   13.450</td> <td>   -0.967</td> <td> 0.334</td> <td>  -39.414</td> <td>   13.410</td>\n",
       "</tr>\n",
       "<tr>\n",
       "  <th>Industry_Consumer Products Manufacturing</th>          <td>   14.9917</td> <td>    9.211</td> <td>    1.628</td> <td> 0.104</td> <td>   -3.097</td> <td>   33.080</td>\n",
       "</tr>\n",
       "<tr>\n",
       "  <th>Industry_Department, Clothing, & Shoe Stores</th>      <td>   -1.2526</td> <td>   11.830</td> <td>   -0.106</td> <td> 0.916</td> <td>  -24.483</td> <td>   21.978</td>\n",
       "</tr>\n",
       "<tr>\n",
       "  <th>Industry_Education Training Services</th>              <td>  -31.2086</td> <td>   12.923</td> <td>   -2.415</td> <td> 0.016</td> <td>  -56.586</td> <td>   -5.832</td>\n",
       "</tr>\n",
       "<tr>\n",
       "  <th>Industry_Energy</th>                                   <td>   -0.3177</td> <td>    6.796</td> <td>   -0.047</td> <td> 0.963</td> <td>  -13.662</td> <td>   13.027</td>\n",
       "</tr>\n",
       "<tr>\n",
       "  <th>Industry_Enterprise Software & Network Solutions</th>  <td>    7.8461</td> <td>    3.673</td> <td>    2.136</td> <td> 0.033</td> <td>    0.633</td> <td>   15.059</td>\n",
       "</tr>\n",
       "<tr>\n",
       "  <th>Industry_Farm Support Services</th>                    <td>  -11.0089</td> <td>   12.537</td> <td>   -0.878</td> <td> 0.380</td> <td>  -35.627</td> <td>   13.609</td>\n",
       "</tr>\n",
       "<tr>\n",
       "  <th>Industry_Federal Agencies</th>                         <td>    3.9794</td> <td>    5.073</td> <td>    0.784</td> <td> 0.433</td> <td>   -5.982</td> <td>   13.941</td>\n",
       "</tr>\n",
       "<tr>\n",
       "  <th>Industry_Financial Analytics & Research</th>           <td>   10.8062</td> <td>    9.470</td> <td>    1.141</td> <td> 0.254</td> <td>   -7.789</td> <td>   29.402</td>\n",
       "</tr>\n",
       "<tr>\n",
       "  <th>Industry_Financial Transaction Processing</th>         <td>  -15.5987</td> <td>   12.822</td> <td>   -1.217</td> <td> 0.224</td> <td>  -40.776</td> <td>    9.579</td>\n",
       "</tr>\n",
       "<tr>\n",
       "  <th>Industry_Food & Beverage Manufacturing</th>            <td>  -12.7263</td> <td>   10.933</td> <td>   -1.164</td> <td> 0.245</td> <td>  -34.196</td> <td>    8.743</td>\n",
       "</tr>\n",
       "<tr>\n",
       "  <th>Industry_Gambling</th>                                 <td>    4.2778</td> <td>    6.692</td> <td>    0.639</td> <td> 0.523</td> <td>   -8.864</td> <td>   17.419</td>\n",
       "</tr>\n",
       "<tr>\n",
       "  <th>Industry_Gas Stations</th>                             <td>  -39.1633</td> <td>   13.803</td> <td>   -2.837</td> <td> 0.005</td> <td>  -66.269</td> <td>  -12.058</td>\n",
       "</tr>\n",
       "<tr>\n",
       "  <th>Industry_Health Care Products Manufacturing</th>       <td>   17.7505</td> <td>   22.812</td> <td>    0.778</td> <td> 0.437</td> <td>  -27.045</td> <td>   62.546</td>\n",
       "</tr>\n",
       "<tr>\n",
       "  <th>Industry_Health Care Services & Hospitals</th>         <td>    7.7351</td> <td>    2.838</td> <td>    2.726</td> <td> 0.007</td> <td>    2.162</td> <td>   13.308</td>\n",
       "</tr>\n",
       "<tr>\n",
       "  <th>Industry_Health, Beauty, & Fitness</th>                <td>   15.5944</td> <td>   18.416</td> <td>    0.847</td> <td> 0.397</td> <td>  -20.569</td> <td>   51.758</td>\n",
       "</tr>\n",
       "<tr>\n",
       "  <th>Industry_IT Services</th>                              <td>   -3.1826</td> <td>    3.514</td> <td>   -0.906</td> <td> 0.365</td> <td>  -10.083</td> <td>    3.717</td>\n",
       "</tr>\n",
       "<tr>\n",
       "  <th>Industry_Industrial Manufacturing</th>                 <td>   -8.0462</td> <td>   12.581</td> <td>   -0.640</td> <td> 0.523</td> <td>  -32.751</td> <td>   16.659</td>\n",
       "</tr>\n",
       "<tr>\n",
       "  <th>Industry_Insurance Agencies & Brokerages</th>          <td>   -5.8185</td> <td>    7.191</td> <td>   -0.809</td> <td> 0.419</td> <td>  -19.939</td> <td>    8.302</td>\n",
       "</tr>\n",
       "<tr>\n",
       "  <th>Industry_Insurance Carriers</th>                       <td>    7.2607</td> <td>    4.560</td> <td>    1.592</td> <td> 0.112</td> <td>   -1.694</td> <td>   16.215</td>\n",
       "</tr>\n",
       "<tr>\n",
       "  <th>Industry_Internet</th>                                 <td>    7.7549</td> <td>    4.413</td> <td>    1.757</td> <td> 0.079</td> <td>   -0.912</td> <td>   16.421</td>\n",
       "</tr>\n",
       "<tr>\n",
       "  <th>Industry_Investment Banking & Asset Management</th>    <td>   24.4899</td> <td>   11.889</td> <td>    2.060</td> <td> 0.040</td> <td>    1.144</td> <td>   47.836</td>\n",
       "</tr>\n",
       "<tr>\n",
       "  <th>Industry_K-12 Education</th>                           <td>   23.3609</td> <td>   15.322</td> <td>    1.525</td> <td> 0.128</td> <td>   -6.727</td> <td>   53.448</td>\n",
       "</tr>\n",
       "<tr>\n",
       "  <th>Industry_Lending</th>                                  <td>    1.4669</td> <td>    9.206</td> <td>    0.159</td> <td> 0.873</td> <td>  -16.611</td> <td>   19.545</td>\n",
       "</tr>\n",
       "<tr>\n",
       "  <th>Industry_Logistics & Supply Chain</th>                 <td>    9.6493</td> <td>   12.910</td> <td>    0.747</td> <td> 0.455</td> <td>  -15.703</td> <td>   35.001</td>\n",
       "</tr>\n",
       "<tr>\n",
       "  <th>Industry_Metals Brokers</th>                           <td>  -15.2676</td> <td>   15.186</td> <td>   -1.005</td> <td> 0.315</td> <td>  -45.087</td> <td>   14.552</td>\n",
       "</tr>\n",
       "<tr>\n",
       "  <th>Industry_Mining</th>                                   <td>    5.7028</td> <td>   18.055</td> <td>    0.316</td> <td> 0.752</td> <td>  -29.751</td> <td>   41.156</td>\n",
       "</tr>\n",
       "<tr>\n",
       "  <th>Industry_Motion Picture Production & Distribution</th> <td>   32.7684</td> <td>   20.155</td> <td>    1.626</td> <td> 0.104</td> <td>   -6.810</td> <td>   72.347</td>\n",
       "</tr>\n",
       "<tr>\n",
       "  <th>Industry_Other Retail Stores</th>                      <td>   56.5927</td> <td>   22.975</td> <td>    2.463</td> <td> 0.014</td> <td>   11.478</td> <td>  101.708</td>\n",
       "</tr>\n",
       "<tr>\n",
       "  <th>Industry_Real Estate</th>                              <td>   -1.1299</td> <td>    4.831</td> <td>   -0.234</td> <td> 0.815</td> <td>  -10.616</td> <td>    8.356</td>\n",
       "</tr>\n",
       "<tr>\n",
       "  <th>Industry_Religious Organizations</th>                  <td>   19.1397</td> <td>   10.309</td> <td>    1.857</td> <td> 0.064</td> <td>   -1.103</td> <td>   39.383</td>\n",
       "</tr>\n",
       "<tr>\n",
       "  <th>Industry_Research & Development</th>                   <td>  -10.0006</td> <td>    6.367</td> <td>   -1.571</td> <td> 0.117</td> <td>  -22.503</td> <td>    2.502</td>\n",
       "</tr>\n",
       "<tr>\n",
       "  <th>Industry_Security Services</th>                        <td>    3.1035</td> <td>    9.364</td> <td>    0.331</td> <td> 0.740</td> <td>  -15.285</td> <td>   21.492</td>\n",
       "</tr>\n",
       "<tr>\n",
       "  <th>Industry_Social Assistance</th>                        <td>   -7.4537</td> <td>   10.725</td> <td>   -0.695</td> <td> 0.487</td> <td>  -28.514</td> <td>   13.606</td>\n",
       "</tr>\n",
       "<tr>\n",
       "  <th>Industry_Sporting Goods Stores</th>                    <td>  -39.0493</td> <td>   17.840</td> <td>   -2.189</td> <td> 0.029</td> <td>  -74.082</td> <td>   -4.016</td>\n",
       "</tr>\n",
       "<tr>\n",
       "  <th>Industry_Staffing & Outsourcing</th>                   <td>    3.8824</td> <td>   10.506</td> <td>    0.370</td> <td> 0.712</td> <td>  -16.749</td> <td>   24.513</td>\n",
       "</tr>\n",
       "<tr>\n",
       "  <th>Industry_Stock Exchanges</th>                          <td>  -32.1824</td> <td>   15.488</td> <td>   -2.078</td> <td> 0.038</td> <td>  -62.595</td> <td>   -1.770</td>\n",
       "</tr>\n",
       "<tr>\n",
       "  <th>Industry_TV Broadcast & Cable Networks</th>            <td>   -6.0786</td> <td>   15.895</td> <td>   -0.382</td> <td> 0.702</td> <td>  -37.291</td> <td>   25.134</td>\n",
       "</tr>\n",
       "<tr>\n",
       "  <th>Industry_Telecommunications Manufacturing</th>         <td>  -18.4392</td> <td>   13.320</td> <td>   -1.384</td> <td> 0.167</td> <td>  -44.595</td> <td>    7.717</td>\n",
       "</tr>\n",
       "<tr>\n",
       "  <th>Industry_Telecommunications Services</th>              <td>   20.8657</td> <td>   11.346</td> <td>    1.839</td> <td> 0.066</td> <td>   -1.414</td> <td>   43.146</td>\n",
       "</tr>\n",
       "<tr>\n",
       "  <th>Industry_Transportation Equipment Manufacturing</th>   <td>  -15.1237</td> <td>   22.506</td> <td>   -0.672</td> <td> 0.502</td> <td>  -59.319</td> <td>   29.071</td>\n",
       "</tr>\n",
       "<tr>\n",
       "  <th>Industry_Transportation Management</th>                <td>  -25.5410</td> <td>   14.225</td> <td>   -1.796</td> <td> 0.073</td> <td>  -53.474</td> <td>    2.392</td>\n",
       "</tr>\n",
       "<tr>\n",
       "  <th>Industry_Travel Agencies</th>                          <td>   -6.6474</td> <td>    5.305</td> <td>   -1.253</td> <td> 0.211</td> <td>  -17.064</td> <td>    3.769</td>\n",
       "</tr>\n",
       "<tr>\n",
       "  <th>Industry_Trucking</th>                                 <td>   20.8206</td> <td>   19.871</td> <td>    1.048</td> <td> 0.295</td> <td>  -18.200</td> <td>   59.842</td>\n",
       "</tr>\n",
       "<tr>\n",
       "  <th>Industry_Video Games</th>                              <td>   -5.0850</td> <td>   14.470</td> <td>   -0.351</td> <td> 0.725</td> <td>  -33.499</td> <td>   23.329</td>\n",
       "</tr>\n",
       "<tr>\n",
       "  <th>Industry_Wholesale</th>                                <td>    0.4838</td> <td>   13.492</td> <td>    0.036</td> <td> 0.971</td> <td>  -26.010</td> <td>   26.978</td>\n",
       "</tr>\n",
       "<tr>\n",
       "  <th>Sector_-1</th>                                         <td>   -4.6775</td> <td>    7.840</td> <td>   -0.597</td> <td> 0.551</td> <td>  -20.073</td> <td>   10.718</td>\n",
       "</tr>\n",
       "<tr>\n",
       "  <th>Sector_Accounting & Legal</th>                         <td>    3.6053</td> <td>   14.277</td> <td>    0.253</td> <td> 0.801</td> <td>  -24.430</td> <td>   31.641</td>\n",
       "</tr>\n",
       "<tr>\n",
       "  <th>Sector_Aerospace & Defense</th>                        <td>    6.7876</td> <td>    2.959</td> <td>    2.294</td> <td> 0.022</td> <td>    0.977</td> <td>   12.598</td>\n",
       "</tr>\n",
       "<tr>\n",
       "  <th>Sector_Agriculture & Forestry</th>                     <td>  -11.0089</td> <td>   12.537</td> <td>   -0.878</td> <td> 0.380</td> <td>  -35.627</td> <td>   13.609</td>\n",
       "</tr>\n",
       "<tr>\n",
       "  <th>Sector_Arts, Entertainment & Recreation</th>           <td>    4.2778</td> <td>    6.692</td> <td>    0.639</td> <td> 0.523</td> <td>   -8.864</td> <td>   17.419</td>\n",
       "</tr>\n",
       "<tr>\n",
       "  <th>Sector_Biotech & Pharmaceuticals</th>                  <td>    5.6074</td> <td>    2.028</td> <td>    2.765</td> <td> 0.006</td> <td>    1.626</td> <td>    9.589</td>\n",
       "</tr>\n",
       "<tr>\n",
       "  <th>Sector_Business Services</th>                          <td>    0.9597</td> <td>    4.023</td> <td>    0.239</td> <td> 0.812</td> <td>   -6.940</td> <td>    8.859</td>\n",
       "</tr>\n",
       "<tr>\n",
       "  <th>Sector_Construction, Repair & Maintenance</th>         <td>  -17.0625</td> <td>   10.643</td> <td>   -1.603</td> <td> 0.109</td> <td>  -37.962</td> <td>    3.837</td>\n",
       "</tr>\n",
       "<tr>\n",
       "  <th>Sector_Consumer Services</th>                          <td>    2.5923</td> <td>    9.947</td> <td>    0.261</td> <td> 0.794</td> <td>  -16.941</td> <td>   22.126</td>\n",
       "</tr>\n",
       "<tr>\n",
       "  <th>Sector_Education</th>                                  <td>    1.7827</td> <td>    7.089</td> <td>    0.251</td> <td> 0.802</td> <td>  -12.138</td> <td>   15.703</td>\n",
       "</tr>\n",
       "<tr>\n",
       "  <th>Sector_Finance</th>                                    <td>   10.7282</td> <td>    4.685</td> <td>    2.290</td> <td> 0.022</td> <td>    1.528</td> <td>   19.928</td>\n",
       "</tr>\n",
       "<tr>\n",
       "  <th>Sector_Government</th>                                 <td>    3.9794</td> <td>    5.073</td> <td>    0.784</td> <td> 0.433</td> <td>   -5.982</td> <td>   13.941</td>\n",
       "</tr>\n",
       "<tr>\n",
       "  <th>Sector_Health Care</th>                                <td>    7.7351</td> <td>    2.838</td> <td>    2.726</td> <td> 0.007</td> <td>    2.162</td> <td>   13.308</td>\n",
       "</tr>\n",
       "<tr>\n",
       "  <th>Sector_Information Technology</th>                     <td>   16.0371</td> <td>    2.722</td> <td>    5.891</td> <td> 0.000</td> <td>   10.691</td> <td>   21.383</td>\n",
       "</tr>\n",
       "<tr>\n",
       "  <th>Sector_Insurance</th>                                  <td>    1.4422</td> <td>    4.011</td> <td>    0.360</td> <td> 0.719</td> <td>   -6.434</td> <td>    9.318</td>\n",
       "</tr>\n",
       "<tr>\n",
       "  <th>Sector_Manufacturing</th>                              <td>   -3.1541</td> <td>    6.820</td> <td>   -0.462</td> <td> 0.644</td> <td>  -16.546</td> <td>   10.238</td>\n",
       "</tr>\n",
       "<tr>\n",
       "  <th>Sector_Media</th>                                      <td>   21.6048</td> <td>    9.008</td> <td>    2.398</td> <td> 0.017</td> <td>    3.916</td> <td>   39.293</td>\n",
       "</tr>\n",
       "<tr>\n",
       "  <th>Sector_Mining & Metals</th>                            <td>   -9.5648</td> <td>   10.208</td> <td>   -0.937</td> <td> 0.349</td> <td>  -29.611</td> <td>   10.481</td>\n",
       "</tr>\n",
       "<tr>\n",
       "  <th>Sector_Non-Profit</th>                                 <td>   11.6859</td> <td>    7.940</td> <td>    1.472</td> <td> 0.142</td> <td>   -3.906</td> <td>   27.278</td>\n",
       "</tr>\n",
       "<tr>\n",
       "  <th>Sector_Oil, Gas, Energy & Utilities</th>               <td>   -0.3177</td> <td>    6.796</td> <td>   -0.047</td> <td> 0.963</td> <td>  -13.662</td> <td>   13.027</td>\n",
       "</tr>\n",
       "<tr>\n",
       "  <th>Sector_Real Estate</th>                                <td>   -1.1299</td> <td>    4.831</td> <td>   -0.234</td> <td> 0.815</td> <td>  -10.616</td> <td>    8.356</td>\n",
       "</tr>\n",
       "<tr>\n",
       "  <th>Sector_Retail</th>                                     <td>   14.0275</td> <td>    7.248</td> <td>    1.935</td> <td> 0.053</td> <td>   -0.206</td> <td>   28.261</td>\n",
       "</tr>\n",
       "<tr>\n",
       "  <th>Sector_Telecommunications</th>                         <td>    2.4265</td> <td>    7.739</td> <td>    0.314</td> <td> 0.754</td> <td>  -12.771</td> <td>   17.624</td>\n",
       "</tr>\n",
       "<tr>\n",
       "  <th>Sector_Transportation & Logistics</th>                 <td>    4.9289</td> <td>    7.982</td> <td>    0.618</td> <td> 0.537</td> <td>  -10.744</td> <td>   20.602</td>\n",
       "</tr>\n",
       "<tr>\n",
       "  <th>Sector_Travel & Tourism</th>                           <td>   -6.6474</td> <td>    5.305</td> <td>   -1.253</td> <td> 0.211</td> <td>  -17.064</td> <td>    3.769</td>\n",
       "</tr>\n",
       "<tr>\n",
       "  <th>Revenue_$1 to $2 billion (USD)</th>                    <td>    3.9353</td> <td>    4.666</td> <td>    0.843</td> <td> 0.399</td> <td>   -5.227</td> <td>   13.098</td>\n",
       "</tr>\n",
       "<tr>\n",
       "  <th>Revenue_$1 to $5 million (USD)</th>                    <td>   -2.7906</td> <td>    9.913</td> <td>   -0.281</td> <td> 0.778</td> <td>  -22.257</td> <td>   16.676</td>\n",
       "</tr>\n",
       "<tr>\n",
       "  <th>Revenue_$10 to $25 million (USD)</th>                  <td>   -5.0134</td> <td>    5.324</td> <td>   -0.942</td> <td> 0.347</td> <td>  -15.467</td> <td>    5.441</td>\n",
       "</tr>\n",
       "<tr>\n",
       "  <th>Revenue_$10+ billion (USD)</th>                        <td>   13.2641</td> <td>    5.995</td> <td>    2.213</td> <td> 0.027</td> <td>    1.492</td> <td>   25.036</td>\n",
       "</tr>\n",
       "<tr>\n",
       "  <th>Revenue_$100 to $500 million (USD)</th>                <td>   -6.3759</td> <td>    3.905</td> <td>   -1.633</td> <td> 0.103</td> <td>  -14.045</td> <td>    1.293</td>\n",
       "</tr>\n",
       "<tr>\n",
       "  <th>Revenue_$2 to $5 billion (USD)</th>                    <td>    8.6603</td> <td>    6.281</td> <td>    1.379</td> <td> 0.168</td> <td>   -3.674</td> <td>   20.995</td>\n",
       "</tr>\n",
       "<tr>\n",
       "  <th>Revenue_$25 to $50 million (USD)</th>                  <td>   -9.3158</td> <td>    4.966</td> <td>   -1.876</td> <td> 0.061</td> <td>  -19.067</td> <td>    0.436</td>\n",
       "</tr>\n",
       "<tr>\n",
       "  <th>Revenue_$5 to $10 billion (USD)</th>                   <td>    9.5825</td> <td>    8.146</td> <td>    1.176</td> <td> 0.240</td> <td>   -6.414</td> <td>   25.579</td>\n",
       "</tr>\n",
       "<tr>\n",
       "  <th>Revenue_$5 to $10 million (USD)</th>                   <td>   18.8432</td> <td>    8.471</td> <td>    2.224</td> <td> 0.026</td> <td>    2.209</td> <td>   35.477</td>\n",
       "</tr>\n",
       "<tr>\n",
       "  <th>Revenue_$50 to $100 million (USD)</th>                 <td>    7.7063</td> <td>    4.968</td> <td>    1.551</td> <td> 0.121</td> <td>   -2.049</td> <td>   17.462</td>\n",
       "</tr>\n",
       "<tr>\n",
       "  <th>Revenue_$500 million to $1 billion (USD)</th>          <td>    0.4801</td> <td>    5.301</td> <td>    0.091</td> <td> 0.928</td> <td>   -9.930</td> <td>   10.890</td>\n",
       "</tr>\n",
       "<tr>\n",
       "  <th>Revenue_-1</th>                                        <td>   13.5425</td> <td>   12.520</td> <td>    1.082</td> <td> 0.280</td> <td>  -11.043</td> <td>   38.128</td>\n",
       "</tr>\n",
       "<tr>\n",
       "  <th>Revenue_Less than $1 million (USD)</th>                <td>   12.8165</td> <td>   16.737</td> <td>    0.766</td> <td> 0.444</td> <td>  -20.049</td> <td>   45.682</td>\n",
       "</tr>\n",
       "<tr>\n",
       "  <th>Revenue_Unknown / Non-Applicable</th>                  <td>    1.3108</td> <td>    3.064</td> <td>    0.428</td> <td> 0.669</td> <td>   -4.706</td> <td>    7.328</td>\n",
       "</tr>\n",
       "<tr>\n",
       "  <th>size_crct_1 - 50</th>                                  <td>  -14.6176</td> <td>   17.857</td> <td>   -0.819</td> <td> 0.413</td> <td>  -49.683</td> <td>   20.447</td>\n",
       "</tr>\n",
       "<tr>\n",
       "  <th>size_crct_10000+</th>                                  <td>  -19.5141</td> <td>   18.277</td> <td>   -1.068</td> <td> 0.286</td> <td>  -55.405</td> <td>   16.377</td>\n",
       "</tr>\n",
       "<tr>\n",
       "  <th>size_crct_1001 - 5000</th>                             <td>  -12.9138</td> <td>   17.419</td> <td>   -0.741</td> <td> 0.459</td> <td>  -47.119</td> <td>   21.291</td>\n",
       "</tr>\n",
       "<tr>\n",
       "  <th>size_crct_201 - 500</th>                               <td>  -11.8986</td> <td>   16.980</td> <td>   -0.701</td> <td> 0.484</td> <td>  -45.243</td> <td>   21.446</td>\n",
       "</tr>\n",
       "<tr>\n",
       "  <th>size_crct_5001 - 10000</th>                            <td>  -23.1663</td> <td>   18.024</td> <td>   -1.285</td> <td> 0.199</td> <td>  -58.559</td> <td>   12.227</td>\n",
       "</tr>\n",
       "<tr>\n",
       "  <th>size_crct_501 - 1000</th>                              <td>  -13.5484</td> <td>   17.302</td> <td>   -0.783</td> <td> 0.434</td> <td>  -47.524</td> <td>   20.427</td>\n",
       "</tr>\n",
       "<tr>\n",
       "  <th>size_crct_51 - 200</th>                                <td>   -5.8893</td> <td>   17.143</td> <td>   -0.344</td> <td> 0.731</td> <td>  -39.552</td> <td>   27.774</td>\n",
       "</tr>\n",
       "<tr>\n",
       "  <th>job_simple_analyst</th>                                <td>  -33.2643</td> <td>    3.519</td> <td>   -9.453</td> <td> 0.000</td> <td>  -40.175</td> <td>  -26.354</td>\n",
       "</tr>\n",
       "<tr>\n",
       "  <th>job_simple_data engineer</th>                          <td>    1.3031</td> <td>    3.514</td> <td>    0.371</td> <td> 0.711</td> <td>   -5.596</td> <td>    8.203</td>\n",
       "</tr>\n",
       "<tr>\n",
       "  <th>job_simple_data scientist</th>                         <td>   15.0239</td> <td>    2.852</td> <td>    5.267</td> <td> 0.000</td> <td>    9.423</td> <td>   20.625</td>\n",
       "</tr>\n",
       "<tr>\n",
       "  <th>job_simple_director</th>                               <td>   70.5514</td> <td>    6.426</td> <td>   10.978</td> <td> 0.000</td> <td>   57.932</td> <td>   83.171</td>\n",
       "</tr>\n",
       "<tr>\n",
       "  <th>job_simple_manager</th>                                <td>   -8.7624</td> <td>    5.777</td> <td>   -1.517</td> <td> 0.130</td> <td>  -20.106</td> <td>    2.581</td>\n",
       "</tr>\n",
       "<tr>\n",
       "  <th>job_simple_ml</th>                                     <td>   30.0320</td> <td>    6.331</td> <td>    4.744</td> <td> 0.000</td> <td>   17.601</td> <td>   42.463</td>\n",
       "</tr>\n",
       "<tr>\n",
       "  <th>job_simple_na</th>                                     <td>   -8.2378</td> <td>    3.237</td> <td>   -2.545</td> <td> 0.011</td> <td>  -14.595</td> <td>   -1.881</td>\n",
       "</tr>\n",
       "<tr>\n",
       "  <th>seniority_jr</th>                                      <td>   24.8328</td> <td>   14.311</td> <td>    1.735</td> <td> 0.083</td> <td>   -3.269</td> <td>   52.935</td>\n",
       "</tr>\n",
       "<tr>\n",
       "  <th>seniority_na</th>                                      <td>    7.5809</td> <td>    6.349</td> <td>    1.194</td> <td> 0.233</td> <td>   -4.886</td> <td>   20.048</td>\n",
       "</tr>\n",
       "<tr>\n",
       "  <th>seniority_senior</th>                                  <td>   34.2321</td> <td>    6.573</td> <td>    5.208</td> <td> 0.000</td> <td>   21.326</td> <td>   47.139</td>\n",
       "</tr>\n",
       "</table>\n",
       "<table class=\"simpletable\">\n",
       "<tr>\n",
       "  <th>Omnibus:</th>       <td>100.379</td> <th>  Durbin-Watson:     </th> <td>   2.046</td>\n",
       "</tr>\n",
       "<tr>\n",
       "  <th>Prob(Omnibus):</th> <td> 0.000</td>  <th>  Jarque-Bera (JB):  </th> <td> 347.613</td>\n",
       "</tr>\n",
       "<tr>\n",
       "  <th>Skew:</th>          <td> 0.614</td>  <th>  Prob(JB):          </th> <td>3.29e-76</td>\n",
       "</tr>\n",
       "<tr>\n",
       "  <th>Kurtosis:</th>      <td> 6.120</td>  <th>  Cond. No.          </th> <td>3.39e+18</td>\n",
       "</tr>\n",
       "</table><br/><br/>Warnings:<br/>[1] Standard Errors assume that the covariance matrix of the errors is correctly specified.<br/>[2] The smallest eigenvalue is 1.11e-27. This might indicate that there are<br/>strong multicollinearity problems or that the design matrix is singular."
      ],
      "text/plain": [
       "<class 'statsmodels.iolib.summary.Summary'>\n",
       "\"\"\"\n",
       "                            OLS Regression Results                            \n",
       "==============================================================================\n",
       "Dep. Variable:                      y   R-squared:                       0.643\n",
       "Model:                            OLS   Adj. R-squared:                  0.585\n",
       "Method:                 Least Squares   F-statistic:                     11.15\n",
       "Date:                Tue, 16 Jun 2020   Prob (F-statistic):           3.33e-90\n",
       "Time:                        20:41:56   Log-Likelihood:                -3386.1\n",
       "No. Observations:                 742   AIC:                             6980.\n",
       "Df Residuals:                     638   BIC:                             7459.\n",
       "Df Model:                         103                                         \n",
       "Covariance Type:            nonrobust                                         \n",
       "=====================================================================================================================\n",
       "                                                        coef    std err          t      P>|t|      [0.025      0.975]\n",
       "---------------------------------------------------------------------------------------------------------------------\n",
       "const                                                66.6459     12.743      5.230      0.000      41.623      91.669\n",
       "Rating                                               -0.6039      1.947     -0.310      0.757      -4.427       3.219\n",
       "age                                                   0.0026      0.003      0.837      0.403      -0.004       0.009\n",
       "hourly                                              -40.4776      8.268     -4.895      0.000     -56.714     -24.241\n",
       "employer_provided                                    29.0048     11.541      2.513      0.012       6.342      51.668\n",
       "loc_hq_same                                           5.6517      2.538      2.227      0.026       0.669      10.635\n",
       "description_len                                      -0.0003      0.001     -0.446      0.656      -0.002       0.001\n",
       "Competitors_num                                       2.5523      0.864      2.954      0.003       0.856       4.249\n",
       "Type of ownership_-1                                 13.5425     12.520      1.082      0.280     -11.043      38.128\n",
       "Type of ownership_College / University                4.7512     16.903      0.281      0.779     -28.441      37.943\n",
       "Type of ownership_Company - Private                  16.2675      5.033      3.232      0.001       6.385      26.150\n",
       "Type of ownership_Company - Public                   20.3444      5.555      3.663      0.000       9.437      31.252\n",
       "Type of ownership_Government                        -10.0701     13.807     -0.729      0.466     -37.183      17.042\n",
       "Type of ownership_Hospital                           -5.5515      9.610     -0.578      0.564     -24.423      13.320\n",
       "Type of ownership_Nonprofit Organization              3.4768      6.595      0.527      0.598      -9.474      16.428\n",
       "Type of ownership_Other Organization                  1.6641     14.629      0.114      0.909     -27.063      30.391\n",
       "Type of ownership_School / School District           -7.1108     24.306     -0.293      0.770     -54.841      40.620\n",
       "Type of ownership_Subsidiary or Business Segment     24.7972      6.653      3.727      0.000      11.732      37.862\n",
       "Type of ownership_Unknown                             4.5347     27.013      0.168      0.867     -48.510      57.580\n",
       "Industry_-1                                          -4.6775      7.840     -0.597      0.551     -20.073      10.718\n",
       "Industry_Accounting                                   3.6053     14.277      0.253      0.801     -24.430      31.641\n",
       "Industry_Advertising & Marketing                      3.8797      5.932      0.654      0.513      -7.769      15.529\n",
       "Industry_Aerospace & Defense                          6.7876      2.959      2.294      0.022       0.977      12.598\n",
       "Industry_Architectural & Engineering Services       -13.4747     13.715     -0.982      0.326     -40.408      13.458\n",
       "Industry_Auctions & Galleries                        13.2970     23.114      0.575      0.565     -32.092      58.686\n",
       "Industry_Banks & Credit Unions                      -12.5109      7.894     -1.585      0.113     -28.012       2.990\n",
       "Industry_Beauty & Personal Accessories Stores        23.6030     22.778      1.036      0.301     -21.127      68.333\n",
       "Industry_Biotech & Pharmaceuticals                    5.6074      2.028      2.765      0.006       1.626       9.589\n",
       "Industry_Brokerage Services                          34.2573     16.221      2.112      0.035       2.404      66.111\n",
       "Industry_Colleges & Universities                      9.6305     13.286      0.725      0.469     -16.458      35.719\n",
       "Industry_Computer Hardware & Software                 3.6187      3.308      1.094      0.274      -2.878      10.115\n",
       "Industry_Construction                               -17.0625     10.643     -1.603      0.109     -37.962       3.837\n",
       "Industry_Consulting                                  13.0855      5.632      2.324      0.020       2.027      24.144\n",
       "Industry_Consumer Product Rental                    -13.0020     13.450     -0.967      0.334     -39.414      13.410\n",
       "Industry_Consumer Products Manufacturing             14.9917      9.211      1.628      0.104      -3.097      33.080\n",
       "Industry_Department, Clothing, & Shoe Stores         -1.2526     11.830     -0.106      0.916     -24.483      21.978\n",
       "Industry_Education Training Services                -31.2086     12.923     -2.415      0.016     -56.586      -5.832\n",
       "Industry_Energy                                      -0.3177      6.796     -0.047      0.963     -13.662      13.027\n",
       "Industry_Enterprise Software & Network Solutions      7.8461      3.673      2.136      0.033       0.633      15.059\n",
       "Industry_Farm Support Services                      -11.0089     12.537     -0.878      0.380     -35.627      13.609\n",
       "Industry_Federal Agencies                             3.9794      5.073      0.784      0.433      -5.982      13.941\n",
       "Industry_Financial Analytics & Research              10.8062      9.470      1.141      0.254      -7.789      29.402\n",
       "Industry_Financial Transaction Processing           -15.5987     12.822     -1.217      0.224     -40.776       9.579\n",
       "Industry_Food & Beverage Manufacturing              -12.7263     10.933     -1.164      0.245     -34.196       8.743\n",
       "Industry_Gambling                                     4.2778      6.692      0.639      0.523      -8.864      17.419\n",
       "Industry_Gas Stations                               -39.1633     13.803     -2.837      0.005     -66.269     -12.058\n",
       "Industry_Health Care Products Manufacturing          17.7505     22.812      0.778      0.437     -27.045      62.546\n",
       "Industry_Health Care Services & Hospitals             7.7351      2.838      2.726      0.007       2.162      13.308\n",
       "Industry_Health, Beauty, & Fitness                   15.5944     18.416      0.847      0.397     -20.569      51.758\n",
       "Industry_IT Services                                 -3.1826      3.514     -0.906      0.365     -10.083       3.717\n",
       "Industry_Industrial Manufacturing                    -8.0462     12.581     -0.640      0.523     -32.751      16.659\n",
       "Industry_Insurance Agencies & Brokerages             -5.8185      7.191     -0.809      0.419     -19.939       8.302\n",
       "Industry_Insurance Carriers                           7.2607      4.560      1.592      0.112      -1.694      16.215\n",
       "Industry_Internet                                     7.7549      4.413      1.757      0.079      -0.912      16.421\n",
       "Industry_Investment Banking & Asset Management       24.4899     11.889      2.060      0.040       1.144      47.836\n",
       "Industry_K-12 Education                              23.3609     15.322      1.525      0.128      -6.727      53.448\n",
       "Industry_Lending                                      1.4669      9.206      0.159      0.873     -16.611      19.545\n",
       "Industry_Logistics & Supply Chain                     9.6493     12.910      0.747      0.455     -15.703      35.001\n",
       "Industry_Metals Brokers                             -15.2676     15.186     -1.005      0.315     -45.087      14.552\n",
       "Industry_Mining                                       5.7028     18.055      0.316      0.752     -29.751      41.156\n",
       "Industry_Motion Picture Production & Distribution    32.7684     20.155      1.626      0.104      -6.810      72.347\n",
       "Industry_Other Retail Stores                         56.5927     22.975      2.463      0.014      11.478     101.708\n",
       "Industry_Real Estate                                 -1.1299      4.831     -0.234      0.815     -10.616       8.356\n",
       "Industry_Religious Organizations                     19.1397     10.309      1.857      0.064      -1.103      39.383\n",
       "Industry_Research & Development                     -10.0006      6.367     -1.571      0.117     -22.503       2.502\n",
       "Industry_Security Services                            3.1035      9.364      0.331      0.740     -15.285      21.492\n",
       "Industry_Social Assistance                           -7.4537     10.725     -0.695      0.487     -28.514      13.606\n",
       "Industry_Sporting Goods Stores                      -39.0493     17.840     -2.189      0.029     -74.082      -4.016\n",
       "Industry_Staffing & Outsourcing                       3.8824     10.506      0.370      0.712     -16.749      24.513\n",
       "Industry_Stock Exchanges                            -32.1824     15.488     -2.078      0.038     -62.595      -1.770\n",
       "Industry_TV Broadcast & Cable Networks               -6.0786     15.895     -0.382      0.702     -37.291      25.134\n",
       "Industry_Telecommunications Manufacturing           -18.4392     13.320     -1.384      0.167     -44.595       7.717\n",
       "Industry_Telecommunications Services                 20.8657     11.346      1.839      0.066      -1.414      43.146\n",
       "Industry_Transportation Equipment Manufacturing     -15.1237     22.506     -0.672      0.502     -59.319      29.071\n",
       "Industry_Transportation Management                  -25.5410     14.225     -1.796      0.073     -53.474       2.392\n",
       "Industry_Travel Agencies                             -6.6474      5.305     -1.253      0.211     -17.064       3.769\n",
       "Industry_Trucking                                    20.8206     19.871      1.048      0.295     -18.200      59.842\n",
       "Industry_Video Games                                 -5.0850     14.470     -0.351      0.725     -33.499      23.329\n",
       "Industry_Wholesale                                    0.4838     13.492      0.036      0.971     -26.010      26.978\n",
       "Sector_-1                                            -4.6775      7.840     -0.597      0.551     -20.073      10.718\n",
       "Sector_Accounting & Legal                             3.6053     14.277      0.253      0.801     -24.430      31.641\n",
       "Sector_Aerospace & Defense                            6.7876      2.959      2.294      0.022       0.977      12.598\n",
       "Sector_Agriculture & Forestry                       -11.0089     12.537     -0.878      0.380     -35.627      13.609\n",
       "Sector_Arts, Entertainment & Recreation               4.2778      6.692      0.639      0.523      -8.864      17.419\n",
       "Sector_Biotech & Pharmaceuticals                      5.6074      2.028      2.765      0.006       1.626       9.589\n",
       "Sector_Business Services                              0.9597      4.023      0.239      0.812      -6.940       8.859\n",
       "Sector_Construction, Repair & Maintenance           -17.0625     10.643     -1.603      0.109     -37.962       3.837\n",
       "Sector_Consumer Services                              2.5923      9.947      0.261      0.794     -16.941      22.126\n",
       "Sector_Education                                      1.7827      7.089      0.251      0.802     -12.138      15.703\n",
       "Sector_Finance                                       10.7282      4.685      2.290      0.022       1.528      19.928\n",
       "Sector_Government                                     3.9794      5.073      0.784      0.433      -5.982      13.941\n",
       "Sector_Health Care                                    7.7351      2.838      2.726      0.007       2.162      13.308\n",
       "Sector_Information Technology                        16.0371      2.722      5.891      0.000      10.691      21.383\n",
       "Sector_Insurance                                      1.4422      4.011      0.360      0.719      -6.434       9.318\n",
       "Sector_Manufacturing                                 -3.1541      6.820     -0.462      0.644     -16.546      10.238\n",
       "Sector_Media                                         21.6048      9.008      2.398      0.017       3.916      39.293\n",
       "Sector_Mining & Metals                               -9.5648     10.208     -0.937      0.349     -29.611      10.481\n",
       "Sector_Non-Profit                                    11.6859      7.940      1.472      0.142      -3.906      27.278\n",
       "Sector_Oil, Gas, Energy & Utilities                  -0.3177      6.796     -0.047      0.963     -13.662      13.027\n",
       "Sector_Real Estate                                   -1.1299      4.831     -0.234      0.815     -10.616       8.356\n",
       "Sector_Retail                                        14.0275      7.248      1.935      0.053      -0.206      28.261\n",
       "Sector_Telecommunications                             2.4265      7.739      0.314      0.754     -12.771      17.624\n",
       "Sector_Transportation & Logistics                     4.9289      7.982      0.618      0.537     -10.744      20.602\n",
       "Sector_Travel & Tourism                              -6.6474      5.305     -1.253      0.211     -17.064       3.769\n",
       "Revenue_$1 to $2 billion (USD)                        3.9353      4.666      0.843      0.399      -5.227      13.098\n",
       "Revenue_$1 to $5 million (USD)                       -2.7906      9.913     -0.281      0.778     -22.257      16.676\n",
       "Revenue_$10 to $25 million (USD)                     -5.0134      5.324     -0.942      0.347     -15.467       5.441\n",
       "Revenue_$10+ billion (USD)                           13.2641      5.995      2.213      0.027       1.492      25.036\n",
       "Revenue_$100 to $500 million (USD)                   -6.3759      3.905     -1.633      0.103     -14.045       1.293\n",
       "Revenue_$2 to $5 billion (USD)                        8.6603      6.281      1.379      0.168      -3.674      20.995\n",
       "Revenue_$25 to $50 million (USD)                     -9.3158      4.966     -1.876      0.061     -19.067       0.436\n",
       "Revenue_$5 to $10 billion (USD)                       9.5825      8.146      1.176      0.240      -6.414      25.579\n",
       "Revenue_$5 to $10 million (USD)                      18.8432      8.471      2.224      0.026       2.209      35.477\n",
       "Revenue_$50 to $100 million (USD)                     7.7063      4.968      1.551      0.121      -2.049      17.462\n",
       "Revenue_$500 million to $1 billion (USD)              0.4801      5.301      0.091      0.928      -9.930      10.890\n",
       "Revenue_-1                                           13.5425     12.520      1.082      0.280     -11.043      38.128\n",
       "Revenue_Less than $1 million (USD)                   12.8165     16.737      0.766      0.444     -20.049      45.682\n",
       "Revenue_Unknown / Non-Applicable                      1.3108      3.064      0.428      0.669      -4.706       7.328\n",
       "size_crct_1 - 50                                    -14.6176     17.857     -0.819      0.413     -49.683      20.447\n",
       "size_crct_10000+                                    -19.5141     18.277     -1.068      0.286     -55.405      16.377\n",
       "size_crct_1001 - 5000                               -12.9138     17.419     -0.741      0.459     -47.119      21.291\n",
       "size_crct_201 - 500                                 -11.8986     16.980     -0.701      0.484     -45.243      21.446\n",
       "size_crct_5001 - 10000                              -23.1663     18.024     -1.285      0.199     -58.559      12.227\n",
       "size_crct_501 - 1000                                -13.5484     17.302     -0.783      0.434     -47.524      20.427\n",
       "size_crct_51 - 200                                   -5.8893     17.143     -0.344      0.731     -39.552      27.774\n",
       "job_simple_analyst                                  -33.2643      3.519     -9.453      0.000     -40.175     -26.354\n",
       "job_simple_data engineer                              1.3031      3.514      0.371      0.711      -5.596       8.203\n",
       "job_simple_data scientist                            15.0239      2.852      5.267      0.000       9.423      20.625\n",
       "job_simple_director                                  70.5514      6.426     10.978      0.000      57.932      83.171\n",
       "job_simple_manager                                   -8.7624      5.777     -1.517      0.130     -20.106       2.581\n",
       "job_simple_ml                                        30.0320      6.331      4.744      0.000      17.601      42.463\n",
       "job_simple_na                                        -8.2378      3.237     -2.545      0.011     -14.595      -1.881\n",
       "seniority_jr                                         24.8328     14.311      1.735      0.083      -3.269      52.935\n",
       "seniority_na                                          7.5809      6.349      1.194      0.233      -4.886      20.048\n",
       "seniority_senior                                     34.2321      6.573      5.208      0.000      21.326      47.139\n",
       "==============================================================================\n",
       "Omnibus:                      100.379   Durbin-Watson:                   2.046\n",
       "Prob(Omnibus):                  0.000   Jarque-Bera (JB):              347.613\n",
       "Skew:                           0.614   Prob(JB):                     3.29e-76\n",
       "Kurtosis:                       6.120   Cond. No.                     3.39e+18\n",
       "==============================================================================\n",
       "\n",
       "Warnings:\n",
       "[1] Standard Errors assume that the covariance matrix of the errors is correctly specified.\n",
       "[2] The smallest eigenvalue is 1.11e-27. This might indicate that there are\n",
       "strong multicollinearity problems or that the design matrix is singular.\n",
       "\"\"\""
      ]
     },
     "execution_count": 2,
     "metadata": {},
     "output_type": "execute_result"
    }
   ],
   "source": [
    "df = pd.read_csv('C:\\\\ML\\\\Analytics\\\\data_science_proj/eda_data.csv')\n",
    "\n",
    "df_model = df[['Rating','age','avg_salary','Type of ownership','Industry','Sector','Revenue','hourly','employer_provided','loc_hq_same','size_crct','job_simple','seniority','description_len','Competitors_num']]\n",
    "df_dummies = pd.get_dummies(df_model)\n",
    "\n",
    "from sklearn.model_selection import train_test_split\n",
    "\n",
    "X = df_dummies.drop('avg_salary', axis =1)\n",
    "y = df_dummies.avg_salary.values\n",
    "\n",
    "X_train, X_test, y_train, y_test = train_test_split(X, y, test_size=0.2, random_state=42)\n",
    "\n",
    "import statsmodels.api as sm\n",
    "\n",
    "X_sm = X = sm.add_constant(X)\n",
    "model = sm.OLS(y,X_sm)\n",
    "ols_model = model.fit()\n",
    "ols_model.summary()"
   ]
  },
  {
   "cell_type": "code",
   "execution_count": 6,
   "metadata": {},
   "outputs": [
    {
     "data": {
      "text/plain": [
       "-20.09600351336295"
      ]
     },
     "execution_count": 6,
     "metadata": {},
     "output_type": "execute_result"
    }
   ],
   "source": [
    "from sklearn.linear_model import LinearRegression, Lasso\n",
    "from sklearn.model_selection import cross_val_score\n",
    "\n",
    "lm = LinearRegression()\n",
    "#lm.fit(X_train, y_train)\n",
    "\n",
    "np.mean(cross_val_score(lm,X_train,y_train, scoring = 'neg_mean_absolute_error', cv= 4))"
   ]
  },
  {
   "cell_type": "code",
   "execution_count": 7,
   "metadata": {},
   "outputs": [
    {
     "data": {
      "text/plain": [
       "-22.01511695256062"
      ]
     },
     "execution_count": 7,
     "metadata": {},
     "output_type": "execute_result"
    }
   ],
   "source": [
    "lm_l = Lasso()\n",
    "#lm_l.fit(X_train,y_train)\n",
    "np.mean(cross_val_score(lm_l,X_train,y_train, scoring = 'neg_mean_absolute_error', cv= 4))\n"
   ]
  },
  {
   "cell_type": "code",
   "execution_count": 8,
   "metadata": {},
   "outputs": [],
   "source": [
    "alpha = []\n",
    "error = []\n",
    "for i in range(1,100):\n",
    "    alpha.append(i/100)\n",
    "    lm_ll = Lasso(alpha=(i/100))\n",
    "    error.append(np.mean(cross_val_score(lm_ll,X_train,y_train, scoring = 'neg_mean_absolute_error', cv= 4)))"
   ]
  },
  {
   "cell_type": "code",
   "execution_count": 9,
   "metadata": {},
   "outputs": [
    {
     "data": {
      "text/plain": [
       "[<matplotlib.lines.Line2D at 0x2011155ca88>]"
      ]
     },
     "execution_count": 9,
     "metadata": {},
     "output_type": "execute_result"
    },
    {
     "data": {
      "image/png": "[encoded data removed]",
      "text/plain": [
       "<Figure size 432x288 with 1 Axes>"
      ]
     },
     "metadata": {
      "needs_background": "light"
     },
     "output_type": "display_data"
    }
   ],
   "source": [
    "plt.plot(alpha,error)"
   ]
  },
  {
   "cell_type": "code",
   "execution_count": 10,
   "metadata": {},
   "outputs": [
    {
     "data": {
      "text/html": [
       "<div>\n",
       "<style scoped>\n",
       "    .dataframe tbody tr th:only-of-type {\n",
       "        vertical-align: middle;\n",
       "    }\n",
       "\n",
       "    .dataframe tbody tr th {\n",
       "        vertical-align: top;\n",
       "    }\n",
       "\n",
       "    .dataframe thead th {\n",
       "        text-align: right;\n",
       "    }\n",
       "</style>\n",
       "<table border=\"1\" class=\"dataframe\">\n",
       "  <thead>\n",
       "    <tr style=\"text-align: right;\">\n",
       "      <th></th>\n",
       "      <th>alpha</th>\n",
       "      <th>error</th>\n",
       "    </tr>\n",
       "  </thead>\n",
       "  <tbody>\n",
       "    <tr>\n",
       "      <th>5</th>\n",
       "      <td>0.06</td>\n",
       "      <td>-19.865017</td>\n",
       "    </tr>\n",
       "  </tbody>\n",
       "</table>\n",
       "</div>"
      ],
      "text/plain": [
       "   alpha      error\n",
       "5   0.06 -19.865017"
      ]
     },
     "execution_count": 10,
     "metadata": {},
     "output_type": "execute_result"
    }
   ],
   "source": [
    "errors = tuple(zip(alpha,error))\n",
    "df_errors = pd.DataFrame(errors, columns = ['alpha','error'])\n",
    "df_errors[df_errors.error == max(df_errors.error)]"
   ]
  },
  {
   "cell_type": "code",
   "execution_count": 11,
   "metadata": {},
   "outputs": [
    {
     "data": {
      "text/plain": [
       "-19.865017001470537"
      ]
     },
     "execution_count": 11,
     "metadata": {},
     "output_type": "execute_result"
    }
   ],
   "source": [
    "lm_l = Lasso(alpha=0.06)\n",
    "#lm_l.fit(X_train,y_train)\n",
    "np.mean(cross_val_score(lm_l,X_train,y_train, scoring = 'neg_mean_absolute_error', cv= 4))\n"
   ]
  },
  {
   "cell_type": "code",
   "execution_count": 9,
   "metadata": {
    "scrolled": true
   },
   "outputs": [
    {
     "data": {
      "text/plain": [
       "-19.865017001470537"
      ]
     },
     "execution_count": 9,
     "metadata": {},
     "output_type": "execute_result"
    }
   ],
   "source": [
    "lm_l = Lasso(alpha=0.06)\n",
    "#lm_l.fit(X_train,y_train)aa\n",
    "np.mean(cross_val_score(lm_l,X_train,y_train, scoring = 'neg_mean_absolute_error', cv= 4))\n"
   ]
  },
  {
   "cell_type": "code",
   "execution_count": 12,
   "metadata": {},
   "outputs": [
    {
     "data": {
      "text/plain": [
       "-15.19527259432251"
      ]
     },
     "execution_count": 12,
     "metadata": {},
     "output_type": "execute_result"
    }
   ],
   "source": [
    "from sklearn.ensemble import RandomForestRegressor\n",
    "rf = RandomForestRegressor()\n",
    "\n",
    "np.mean(cross_val_score(rf,X_train,y_train,scoring = 'neg_mean_absolute_error', cv= 4))"
   ]
  },
  {
   "cell_type": "code",
   "execution_count": 13,
   "metadata": {},
   "outputs": [],
   "source": [
    "from sklearn.model_selection import GridSearchCV\n",
    "parameters = {'n_estimators':range(10,400,10), 'criterion':('mse','mae'), 'max_features':('auto','sqrt','log2'),'max_depth' : range(4,10,2)}"
   ]
  },
  {
   "cell_type": "code",
   "execution_count": 14,
   "metadata": {},
   "outputs": [
    {
     "data": {
      "text/plain": [
       "GridSearchCV(cv=4, error_score=nan,\n",
       "             estimator=RandomForestRegressor(bootstrap=True, ccp_alpha=0.0,\n",
       "                                             criterion='mse', max_depth=None,\n",
       "                                             max_features='auto',\n",
       "                                             max_leaf_nodes=None,\n",
       "                                             max_samples=None,\n",
       "                                             min_impurity_decrease=0.0,\n",
       "                                             min_impurity_split=None,\n",
       "                                             min_samples_leaf=1,\n",
       "                                             min_samples_split=2,\n",
       "                                             min_weight_fraction_leaf=0.0,\n",
       "                                             n_estimators=100, n_jobs=None,\n",
       "                                             oob_score=False, random_state=None,\n",
       "                                             verbose=0, warm_start=False),\n",
       "             iid='deprecated', n_jobs=None,\n",
       "             param_grid={'criterion': ('mse', 'mae'),\n",
       "                         'max_depth': range(4, 10, 2),\n",
       "                         'max_features': ('auto', 'sqrt', 'log2'),\n",
       "                         'n_estimators': range(10, 400, 10)},\n",
       "             pre_dispatch='2*n_jobs', refit=True, return_train_score=False,\n",
       "             scoring='neg_mean_absolute_error', verbose=0)"
      ]
     },
     "execution_count": 14,
     "metadata": {},
     "output_type": "execute_result"
    }
   ],
   "source": [
    "gs = GridSearchCV(rf,parameters,scoring='neg_mean_absolute_error',cv=4)\n",
    "gs.fit(X_train,y_train)"
   ]
  },
  {
   "cell_type": "code",
   "execution_count": 15,
   "metadata": {},
   "outputs": [
    {
     "data": {
      "text/plain": [
       "-17.940660100127893"
      ]
     },
     "execution_count": 15,
     "metadata": {},
     "output_type": "execute_result"
    }
   ],
   "source": [
    "gs.best_score_"
   ]
  },
  {
   "cell_type": "code",
   "execution_count": 16,
   "metadata": {},
   "outputs": [
    {
     "data": {
      "text/plain": [
       "RandomForestRegressor(bootstrap=True, ccp_alpha=0.0, criterion='mse',\n",
       "                      max_depth=8, max_features='auto', max_leaf_nodes=None,\n",
       "                      max_samples=None, min_impurity_decrease=0.0,\n",
       "                      min_impurity_split=None, min_samples_leaf=1,\n",
       "                      min_samples_split=2, min_weight_fraction_leaf=0.0,\n",
       "                      n_estimators=30, n_jobs=None, oob_score=False,\n",
       "                      random_state=None, verbose=0, warm_start=False)"
      ]
     },
     "execution_count": 16,
     "metadata": {},
     "output_type": "execute_result"
    }
   ],
   "source": [
    "gs.best_estimator_"
   ]
  },
  {
   "cell_type": "code",
   "execution_count": 18,
   "metadata": {},
   "outputs": [
    {
     "data": {
      "text/plain": [
       "-17.991185293780326"
      ]
     },
     "execution_count": 18,
     "metadata": {},
     "output_type": "execute_result"
    }
   ],
   "source": [
    "from sklearn.ensemble import GradientBoostingRegressor\n",
    "\n",
    "reg = GradientBoostingRegressor(random_state=0)\n",
    "reg.fit(X_train, y_train)\n",
    "\n",
    "np.mean(cross_val_score(reg,X_train,y_train,scoring = 'neg_mean_absolute_error', cv= 4))"
   ]
  },
  {
   "cell_type": "code",
   "execution_count": 27,
   "metadata": {},
   "outputs": [
    {
     "name": "stdout",
     "output_type": "stream",
     "text": [
      "Fitting 4 folds for each of 9 candidates, totalling 36 fits\n"
     ]
    },
    {
     "name": "stderr",
     "output_type": "stream",
     "text": [
      "[Parallel(n_jobs=5)]: Using backend LokyBackend with 5 concurrent workers.\n",
      "[Parallel(n_jobs=5)]: Done  36 out of  36 | elapsed:   14.8s finished\n"
     ]
    },
    {
     "data": {
      "text/plain": [
       "GridSearchCV(cv=4, error_score=nan,\n",
       "             estimator=GradientBoostingRegressor(alpha=0.9, ccp_alpha=0.0,\n",
       "                                                 criterion='friedman_mse',\n",
       "                                                 init=None, learning_rate=0.1,\n",
       "                                                 loss='ls', max_depth=3,\n",
       "                                                 max_features=None,\n",
       "                                                 max_leaf_nodes=None,\n",
       "                                                 min_impurity_decrease=0.0,\n",
       "                                                 min_impurity_split=None,\n",
       "                                                 min_samples_leaf=1,\n",
       "                                                 min_samples_split=2,\n",
       "                                                 min_weight_fraction_leaf=0.0,\n",
       "                                                 n_estimators=100,\n",
       "                                                 n_iter_n...\n",
       "                                                 presort='deprecated',\n",
       "                                                 random_state=0, subsample=1.0,\n",
       "                                                 tol=0.0001,\n",
       "                                                 validation_fraction=0.1,\n",
       "                                                 verbose=0, warm_start=False),\n",
       "             iid='deprecated', n_jobs=5,\n",
       "             param_grid={'learning_rate': [0.03, 0.05, 0.07],\n",
       "                         'max_depth': [5, 6, 7], 'n_estimators': [500],\n",
       "                         'subsample': [0.7]},\n",
       "             pre_dispatch='2*n_jobs', refit=True, return_train_score=False,\n",
       "             scoring='neg_mean_absolute_error', verbose=True)"
      ]
     },
     "execution_count": 27,
     "metadata": {},
     "output_type": "execute_result"
    }
   ],
   "source": [
    "#from xgboost.sklearn import XGBRegressor\n",
    "\n",
    "xgb1 = GradientBoostingRegressor(random_state=0)\n",
    "parameters = {'learning_rate': [.03, 0.05, .07], \n",
    "              'max_depth': [5, 6, 7],\n",
    "              'subsample': [0.7],\n",
    "              'n_estimators': [500]}\n",
    "\n",
    "xgb_grid = GridSearchCV(xgb1,\n",
    "                        parameters,\n",
    "                        cv = 4,\n",
    "                        n_jobs = 5,\n",
    "                        verbose=True,\n",
    "                       scoring = 'neg_mean_absolute_error')\n",
    "\n",
    "xgb_grid.fit(X_train,\n",
    "         y_train)"
   ]
  },
  {
   "cell_type": "code",
   "execution_count": 28,
   "metadata": {},
   "outputs": [
    {
     "data": {
      "text/plain": [
       "-11.78351220656877"
      ]
     },
     "execution_count": 28,
     "metadata": {},
     "output_type": "execute_result"
    }
   ],
   "source": [
    "xgb_grid.best_score_"
   ]
  }
 ],
 "metadata": {
  "kernelspec": {
   "display_name": "Python 3",
   "language": "python",
   "name": "python3"
  },
  "language_info": {
   "codemirror_mode": {
    "name": "ipython",
    "version": 3
   },
   "file_extension": ".py",
   "mimetype": "text/x-python",
   "name": "python",
   "nbconvert_exporter": "python",
   "pygments_lexer": "ipython3",
   "version": "3.7.6"
  }
 },
 "nbformat": 4,
 "nbformat_minor": 4
}
